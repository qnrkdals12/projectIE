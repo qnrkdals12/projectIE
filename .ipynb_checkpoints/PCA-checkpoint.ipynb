{
 "cells": [
  {
   "cell_type": "code",
   "execution_count": 2,
   "id": "bddb4eaa-3797-4bb3-b519-96c2efd37945",
   "metadata": {},
   "outputs": [],
   "source": [
    "import pandas as pd"
   ]
  },
  {
   "cell_type": "code",
   "execution_count": 3,
   "id": "45fefd34-85e0-4141-99aa-5b2e7042b9ec",
   "metadata": {},
   "outputs": [
    {
     "name": "stdout",
     "output_type": "stream",
     "text": [
      "['allllll.csv']\n"
     ]
    }
   ],
   "source": [
    "# csv 확장자 파일 목록 가져오기\n",
    "\n",
    "import os\n",
    "\n",
    "files = []\n",
    "\n",
    "for i in os.listdir():\n",
    "    if i.endswith('.csv'):\n",
    "        files.append(i)\n",
    "        \n",
    "print(files)"
   ]
  },
  {
   "cell_type": "code",
   "execution_count": 4,
   "id": "76434c3c-16ae-4b7b-aed6-3c8434fbf333",
   "metadata": {},
   "outputs": [],
   "source": [
    "data = pd.read_csv(files[0])"
   ]
  },
  {
   "cell_type": "code",
   "execution_count": 5,
   "id": "acba7bcd-628b-4083-899e-9ef46242b431",
   "metadata": {},
   "outputs": [
    {
     "data": {
      "text/plain": [
       "Index(['Unnamed: 0', '동', '단독가구', '인구', '택배함수', '택배착지량점수', '범죄발생', '여성인구'], dtype='object')"
      ]
     },
     "execution_count": 5,
     "metadata": {},
     "output_type": "execute_result"
    }
   ],
   "source": [
    "data.columns"
   ]
  },
  {
   "cell_type": "code",
   "execution_count": 6,
   "id": "88f4c52e-d5e6-40db-88d0-93a422ab3702",
   "metadata": {},
   "outputs": [],
   "source": [
    "# 불필요한 열 제거\n",
    "\n",
    "data.drop('Unnamed: 0', axis = 1, inplace = True)"
   ]
  },
  {
   "cell_type": "code",
   "execution_count": 9,
   "id": "86a81814-5c67-4c29-89d6-172bc988f6b3",
   "metadata": {},
   "outputs": [
    {
     "name": "stdout",
     "output_type": "stream",
     "text": [
      "         동  단독가구     인구  택배함수   택배착지량점수        범죄발생   여성인구\n",
      "315  신대방2동  3672  20140   0.0  4.333333  226.666667  10555\n"
     ]
    }
   ],
   "source": [
    "data"
   ]
  },
  {
   "cell_type": "code",
   "execution_count": 20,
   "id": "1fdafa4a-1bcd-4d08-b388-ba9d11f24dee",
   "metadata": {},
   "outputs": [
    {
     "data": {
      "text/html": [
       "<div>\n",
       "<style scoped>\n",
       "    .dataframe tbody tr th:only-of-type {\n",
       "        vertical-align: middle;\n",
       "    }\n",
       "\n",
       "    .dataframe tbody tr th {\n",
       "        vertical-align: top;\n",
       "    }\n",
       "\n",
       "    .dataframe thead th {\n",
       "        text-align: right;\n",
       "    }\n",
       "</style>\n",
       "<table border=\"1\" class=\"dataframe\">\n",
       "  <thead>\n",
       "    <tr style=\"text-align: right;\">\n",
       "      <th></th>\n",
       "      <th>단독가구</th>\n",
       "      <th>동</th>\n",
       "      <th>범죄발생</th>\n",
       "      <th>여성인구</th>\n",
       "      <th>인구</th>\n",
       "      <th>택배착지량점수</th>\n",
       "    </tr>\n",
       "  </thead>\n",
       "  <tbody>\n",
       "    <tr>\n",
       "      <th>0</th>\n",
       "      <td>1487</td>\n",
       "      <td>사직동</td>\n",
       "      <td>226.235294</td>\n",
       "      <td>5256</td>\n",
       "      <td>9636</td>\n",
       "      <td>1.117647</td>\n",
       "    </tr>\n",
       "    <tr>\n",
       "      <th>1</th>\n",
       "      <td>380</td>\n",
       "      <td>삼청동</td>\n",
       "      <td>226.235294</td>\n",
       "      <td>1452</td>\n",
       "      <td>2780</td>\n",
       "      <td>1.117647</td>\n",
       "    </tr>\n",
       "    <tr>\n",
       "      <th>2</th>\n",
       "      <td>1129</td>\n",
       "      <td>부암동</td>\n",
       "      <td>226.235294</td>\n",
       "      <td>5176</td>\n",
       "      <td>9951</td>\n",
       "      <td>1.117647</td>\n",
       "    </tr>\n",
       "    <tr>\n",
       "      <th>3</th>\n",
       "      <td>1302</td>\n",
       "      <td>평창동</td>\n",
       "      <td>226.235294</td>\n",
       "      <td>9819</td>\n",
       "      <td>18377</td>\n",
       "      <td>1.117647</td>\n",
       "    </tr>\n",
       "    <tr>\n",
       "      <th>4</th>\n",
       "      <td>494</td>\n",
       "      <td>무악동</td>\n",
       "      <td>226.235294</td>\n",
       "      <td>4468</td>\n",
       "      <td>8365</td>\n",
       "      <td>1.117647</td>\n",
       "    </tr>\n",
       "    <tr>\n",
       "      <th>...</th>\n",
       "      <td>...</td>\n",
       "      <td>...</td>\n",
       "      <td>...</td>\n",
       "      <td>...</td>\n",
       "      <td>...</td>\n",
       "      <td>...</td>\n",
       "    </tr>\n",
       "    <tr>\n",
       "      <th>426</th>\n",
       "      <td>6</td>\n",
       "      <td>둔촌1동</td>\n",
       "      <td>223.000000</td>\n",
       "      <td>63</td>\n",
       "      <td>145</td>\n",
       "      <td>3.833333</td>\n",
       "    </tr>\n",
       "    <tr>\n",
       "      <th>427</th>\n",
       "      <td>2389</td>\n",
       "      <td>둔촌2동</td>\n",
       "      <td>223.000000</td>\n",
       "      <td>12744</td>\n",
       "      <td>25103</td>\n",
       "      <td>3.833333</td>\n",
       "    </tr>\n",
       "    <tr>\n",
       "      <th>428</th>\n",
       "      <td>4551</td>\n",
       "      <td>암사1동</td>\n",
       "      <td>223.000000</td>\n",
       "      <td>17710</td>\n",
       "      <td>35118</td>\n",
       "      <td>3.833333</td>\n",
       "    </tr>\n",
       "    <tr>\n",
       "      <th>429</th>\n",
       "      <td>6378</td>\n",
       "      <td>천호2동</td>\n",
       "      <td>223.000000</td>\n",
       "      <td>17223</td>\n",
       "      <td>33940</td>\n",
       "      <td>3.833333</td>\n",
       "    </tr>\n",
       "    <tr>\n",
       "      <th>430</th>\n",
       "      <td>6909</td>\n",
       "      <td>길동</td>\n",
       "      <td>223.000000</td>\n",
       "      <td>23752</td>\n",
       "      <td>46338</td>\n",
       "      <td>3.833333</td>\n",
       "    </tr>\n",
       "  </tbody>\n",
       "</table>\n",
       "<p>431 rows × 6 columns</p>\n",
       "</div>"
      ],
      "text/plain": [
       "     단독가구     동        범죄발생   여성인구     인구   택배착지량점수\n",
       "0    1487   사직동  226.235294   5256   9636  1.117647\n",
       "1     380   삼청동  226.235294   1452   2780  1.117647\n",
       "2    1129   부암동  226.235294   5176   9951  1.117647\n",
       "3    1302   평창동  226.235294   9819  18377  1.117647\n",
       "4     494   무악동  226.235294   4468   8365  1.117647\n",
       "..    ...   ...         ...    ...    ...       ...\n",
       "426     6  둔촌1동  223.000000     63    145  3.833333\n",
       "427  2389  둔촌2동  223.000000  12744  25103  3.833333\n",
       "428  4551  암사1동  223.000000  17710  35118  3.833333\n",
       "429  6378  천호2동  223.000000  17223  33940  3.833333\n",
       "430  6909    길동  223.000000  23752  46338  3.833333\n",
       "\n",
       "[431 rows x 6 columns]"
      ]
     },
     "execution_count": 20,
     "metadata": {},
     "output_type": "execute_result"
    }
   ],
   "source": [
    "# 데이터를 Input과 Label로 분리\n",
    "\n",
    "x = data[data.columns.difference(['택배함수'])]\n",
    "y = data['택배함수']"
   ]
  },
  {
   "cell_type": "code",
   "execution_count": null,
   "id": "6de7d037-ce6d-420e-aa26-998099451844",
   "metadata": {},
   "outputs": [],
   "source": [
    "# https://m.blog.naver.com/tjdrud1323/221720259834\n",
    "# 주성분 분석에 관한 글"
   ]
  },
  {
   "cell_type": "code",
   "execution_count": 22,
   "id": "d88b064f-6c15-4264-9d4f-8b6d96f09025",
   "metadata": {},
   "outputs": [],
   "source": [
    "# 성분의 크기에 따른 분산량 왜곡을 막기 위한 표준화 패키지\n",
    "\n",
    "from sklearn.preprocessing import StandardScaler"
   ]
  },
  {
   "cell_type": "code",
   "execution_count": 25,
   "id": "8c7d8249-788a-4aa0-a6e1-da548b37bd6d",
   "metadata": {},
   "outputs": [],
   "source": [
    "# StandardScaler 객체를 생성해 표준화 진행 후 Data Frame으로 변환하여 저장\n",
    "\n",
    "x_trans = StandardScaler().fit_transform(x.drop(['동'], axis = 1).values)\n",
    "features = ['단독가구', '범죄발생', '여성인구', '인구', '택배착지량점수']\n",
    "x_trans = pd.DataFrame(x_trans, columns = features)"
   ]
  },
  {
   "cell_type": "code",
   "execution_count": 28,
   "id": "70baa293-6d39-4dd9-a709-ae7badb281e8",
   "metadata": {},
   "outputs": [
    {
     "data": {
      "text/html": [
       "<div>\n",
       "<style scoped>\n",
       "    .dataframe tbody tr th:only-of-type {\n",
       "        vertical-align: middle;\n",
       "    }\n",
       "\n",
       "    .dataframe tbody tr th {\n",
       "        vertical-align: top;\n",
       "    }\n",
       "\n",
       "    .dataframe thead th {\n",
       "        text-align: right;\n",
       "    }\n",
       "</style>\n",
       "<table border=\"1\" class=\"dataframe\">\n",
       "  <thead>\n",
       "    <tr style=\"text-align: right;\">\n",
       "      <th></th>\n",
       "      <th>단독가구</th>\n",
       "      <th>범죄발생</th>\n",
       "      <th>여성인구</th>\n",
       "      <th>인구</th>\n",
       "      <th>택배착지량점수</th>\n",
       "    </tr>\n",
       "  </thead>\n",
       "  <tbody>\n",
       "    <tr>\n",
       "      <th>0</th>\n",
       "      <td>-0.848338</td>\n",
       "      <td>-0.222206</td>\n",
       "      <td>-1.413445</td>\n",
       "      <td>-1.495658</td>\n",
       "      <td>-2.200656</td>\n",
       "    </tr>\n",
       "    <tr>\n",
       "      <th>1</th>\n",
       "      <td>-1.368730</td>\n",
       "      <td>-0.222206</td>\n",
       "      <td>-2.230123</td>\n",
       "      <td>-2.262063</td>\n",
       "      <td>-2.200656</td>\n",
       "    </tr>\n",
       "    <tr>\n",
       "      <th>2</th>\n",
       "      <td>-1.016631</td>\n",
       "      <td>-0.222206</td>\n",
       "      <td>-1.430620</td>\n",
       "      <td>-1.460446</td>\n",
       "      <td>-2.200656</td>\n",
       "    </tr>\n",
       "    <tr>\n",
       "      <th>3</th>\n",
       "      <td>-0.935305</td>\n",
       "      <td>-0.222206</td>\n",
       "      <td>-0.433817</td>\n",
       "      <td>-0.518537</td>\n",
       "      <td>-2.200656</td>\n",
       "    </tr>\n",
       "    <tr>\n",
       "      <th>4</th>\n",
       "      <td>-1.315139</td>\n",
       "      <td>-0.222206</td>\n",
       "      <td>-1.582620</td>\n",
       "      <td>-1.637738</td>\n",
       "      <td>-2.200656</td>\n",
       "    </tr>\n",
       "    <tr>\n",
       "      <th>...</th>\n",
       "      <td>...</td>\n",
       "      <td>...</td>\n",
       "      <td>...</td>\n",
       "      <td>...</td>\n",
       "      <td>...</td>\n",
       "    </tr>\n",
       "    <tr>\n",
       "      <th>426</th>\n",
       "      <td>-1.544544</td>\n",
       "      <td>-0.277946</td>\n",
       "      <td>-2.528326</td>\n",
       "      <td>-2.556619</td>\n",
       "      <td>-0.180462</td>\n",
       "    </tr>\n",
       "    <tr>\n",
       "      <th>427</th>\n",
       "      <td>-0.424314</td>\n",
       "      <td>-0.277946</td>\n",
       "      <td>0.194149</td>\n",
       "      <td>0.233335</td>\n",
       "      <td>-0.180462</td>\n",
       "    </tr>\n",
       "    <tr>\n",
       "      <th>428</th>\n",
       "      <td>0.592025</td>\n",
       "      <td>-0.277946</td>\n",
       "      <td>1.260297</td>\n",
       "      <td>1.352872</td>\n",
       "      <td>-0.180462</td>\n",
       "    </tr>\n",
       "    <tr>\n",
       "      <th>429</th>\n",
       "      <td>1.450883</td>\n",
       "      <td>-0.277946</td>\n",
       "      <td>1.155743</td>\n",
       "      <td>1.221188</td>\n",
       "      <td>-0.180462</td>\n",
       "    </tr>\n",
       "    <tr>\n",
       "      <th>430</th>\n",
       "      <td>1.700502</td>\n",
       "      <td>-0.277946</td>\n",
       "      <td>2.557450</td>\n",
       "      <td>2.607110</td>\n",
       "      <td>-0.180462</td>\n",
       "    </tr>\n",
       "  </tbody>\n",
       "</table>\n",
       "<p>431 rows × 5 columns</p>\n",
       "</div>"
      ],
      "text/plain": [
       "         단독가구      범죄발생      여성인구        인구   택배착지량점수\n",
       "0   -0.848338 -0.222206 -1.413445 -1.495658 -2.200656\n",
       "1   -1.368730 -0.222206 -2.230123 -2.262063 -2.200656\n",
       "2   -1.016631 -0.222206 -1.430620 -1.460446 -2.200656\n",
       "3   -0.935305 -0.222206 -0.433817 -0.518537 -2.200656\n",
       "4   -1.315139 -0.222206 -1.582620 -1.637738 -2.200656\n",
       "..        ...       ...       ...       ...       ...\n",
       "426 -1.544544 -0.277946 -2.528326 -2.556619 -0.180462\n",
       "427 -0.424314 -0.277946  0.194149  0.233335 -0.180462\n",
       "428  0.592025 -0.277946  1.260297  1.352872 -0.180462\n",
       "429  1.450883 -0.277946  1.155743  1.221188 -0.180462\n",
       "430  1.700502 -0.277946  2.557450  2.607110 -0.180462\n",
       "\n",
       "[431 rows x 5 columns]"
      ]
     },
     "execution_count": 28,
     "metadata": {},
     "output_type": "execute_result"
    }
   ],
   "source": [
    "# 표준화 확인\n",
    "\n",
    "x_trans"
   ]
  },
  {
   "cell_type": "code",
   "execution_count": 29,
   "id": "bf0efac2-1379-4577-9bb4-2aba8807ac50",
   "metadata": {},
   "outputs": [],
   "source": [
    "# 선형 차원 축소 중 주성분 분석 (Principal Component Analysis) 패키지\n",
    "\n",
    "from sklearn.decomposition import PCA"
   ]
  },
  {
   "cell_type": "code",
   "execution_count": 41,
   "id": "b68fc72b-b6e2-4bbb-8226-86d425569969",
   "metadata": {},
   "outputs": [
    {
     "name": "stdout",
     "output_type": "stream",
     "text": [
      "Explained Variance Ratios : [0.50330872 0.26379037] \n",
      "The Sum of Explained Variance Ratios : 0.7670990923846408\n"
     ]
    }
   ],
   "source": [
    "# 2개의 주성분으로 축소\n",
    "\n",
    "pca2 = PCA(n_components = 2)\n",
    "pca2_values = pca2.fit_transform(x_trans)\n",
    "\n",
    "# 주성분 분석의 설명력 확인\n",
    "\n",
    "print('Explained Variance Ratios : {} \\nThe Sum of Explained Variance Ratios : {}'\n",
    "      .format(pca2.explained_variance_ratio_, sum(pca2.explained_variance_ratio_)))"
   ]
  },
  {
   "cell_type": "code",
   "execution_count": null,
   "id": "91671e3f-bb7d-48aa-89e3-9df7a1708356",
   "metadata": {},
   "outputs": [],
   "source": [
    "# 주성분 1이 약 0.5의 설명력 주성분 2의 설명력이 약 0.3의 설명력을 가진다.\n",
    "# 두 개의 주성분이 전체 분산의 약 76%를 설명하고 있다."
   ]
  },
  {
   "cell_type": "code",
   "execution_count": 42,
   "id": "96b8db24-27f7-4187-b4ba-407ccae04d60",
   "metadata": {},
   "outputs": [
    {
     "name": "stdout",
     "output_type": "stream",
     "text": [
      "Explained Variance Ratios : [0.50330872 0.26379037 0.14008735] \n",
      "The Sum of Explained Variance Ratios : 0.9071864390379271\n"
     ]
    }
   ],
   "source": [
    "# 3개의 주성분으로 축소\n",
    "\n",
    "pca3 = PCA(n_components = 3)\n",
    "pca3_values = pca3.fit_transform(x_trans)\n",
    "\n",
    "# 주성분 분석의 설명력 확인\n",
    "\n",
    "print('Explained Variance Ratios : {} \\nThe Sum of Explained Variance Ratios : {}'\n",
    "      .format(pca3.explained_variance_ratio_, sum(pca3.explained_variance_ratio_)))"
   ]
  },
  {
   "cell_type": "code",
   "execution_count": null,
   "id": "24c18cf8-d085-4ed3-9f39-7e4275fdcbe2",
   "metadata": {},
   "outputs": [],
   "source": [
    "# 3개의 주성분이 전체 분산의 90%를 설명하고 있다.\n",
    "# 이 코드에는 없지만 4개의 주성분으로 축소하였을 때 주성분 4는 약 0.9의 설명력을 가지므로 유의한 축소라고 볼 수 없다.\n",
    "# 따라서 3개의 주성분으로 차원 축소를 진행하였다."
   ]
  },
  {
   "cell_type": "code",
   "execution_count": 44,
   "id": "f852d604-ed4d-454c-8bb1-11ae4753d1b5",
   "metadata": {},
   "outputs": [],
   "source": [
    "# Data Frame으로 변환 후 csv 파일로 출력\n",
    "\n",
    "principal_df = pd.DataFrame(data = pca3_values, columns = ['PC 1', 'PC 2', 'PC 3'])\n",
    "principal_df.to_csv('PCA.csv', encoding = 'cp949') # cp949는 한글 인코딩"
   ]
  }
 ],
 "metadata": {
  "kernelspec": {
   "display_name": "Python 3",
   "language": "python",
   "name": "python3"
  },
  "language_info": {
   "codemirror_mode": {
    "name": "ipython",
    "version": 3
   },
   "file_extension": ".py",
   "mimetype": "text/x-python",
   "name": "python",
   "nbconvert_exporter": "python",
   "pygments_lexer": "ipython3",
   "version": "3.8.8"
  }
 },
 "nbformat": 4,
 "nbformat_minor": 5
}
