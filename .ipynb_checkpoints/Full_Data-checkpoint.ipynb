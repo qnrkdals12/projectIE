{
 "cells": [
  {
   "cell_type": "code",
   "execution_count": 1,
   "id": "742b1a0f-8f3e-4822-a19e-2657b8825e59",
   "metadata": {},
   "outputs": [],
   "source": [
    "import pandas as pd"
   ]
  },
  {
   "cell_type": "code",
   "execution_count": 2,
   "id": "a70b2e85-4b9c-4abf-9649-7a1070158548",
   "metadata": {},
   "outputs": [
    {
     "name": "stdout",
     "output_type": "stream",
     "text": [
      "['전처리(22.04.03).xlsx', 'Preprocessed.xlsx', 'result.xlsx']\n"
     ]
    }
   ],
   "source": [
    "# xlsx 확장자 파일 목록 가져오기\n",
    "\n",
    "import os\n",
    "\n",
    "files = []\n",
    "\n",
    "for i in os.listdir():\n",
    "    if i.endswith('.xlsx'):\n",
    "        files.append(i)\n",
    "        \n",
    "print(files)"
   ]
  },
  {
   "cell_type": "code",
   "execution_count": 3,
   "id": "7cb250ca-bcdc-4f8e-97cd-67448f2dcf43",
   "metadata": {},
   "outputs": [],
   "source": [
    "data = pd.read_excel(files[0]) # 데이터 불러오기\n",
    "features = data.columns.tolist() # 칼럼 이름들 리스트화"
   ]
  },
  {
   "cell_type": "code",
   "execution_count": 4,
   "id": "d0a62fec-d11b-4ac6-b845-2c90326a2a16",
   "metadata": {},
   "outputs": [],
   "source": [
    "features_to_remove = ['자치구', '동', '안심택배함수'] # x 데이터에 들어가지 않을 칼럼들\n",
    "\n",
    "for i in features_to_remove:\n",
    "    try:\n",
    "        features.remove(i)\n",
    "    except:\n",
    "        print('There is no column named + ' +  i)"
   ]
  },
  {
   "cell_type": "code",
   "execution_count": 5,
   "id": "c7306897-1e51-45a9-bb69-754f189fee72",
   "metadata": {},
   "outputs": [],
   "source": [
    "# x, y 분리하여 DataFrame 객체 생성\n",
    "\n",
    "x = pd.DataFrame()\n",
    "\n",
    "# x DataFrame에 데이터 복사\n",
    "\n",
    "for i in features:\n",
    "    try:\n",
    "        x[i] = ''\n",
    "        x[i] = data[i].astype(float)\n",
    "    except:\n",
    "        print(i)\n",
    "        \n",
    "# y DataFrame에 데이터 복사\n",
    "\n",
    "y = data['안심택배함수'].astype(int)"
   ]
  },
  {
   "cell_type": "code",
   "execution_count": 6,
   "id": "c8c81e15-4865-4221-9ae2-4371881cc4bd",
   "metadata": {},
   "outputs": [],
   "source": [
    "# 성분의 크기에 따른 분산량 왜곡을 막기 위한 표준화 패키지\n",
    "\n",
    "from sklearn.preprocessing import StandardScaler"
   ]
  },
  {
   "cell_type": "code",
   "execution_count": 7,
   "id": "ae7364dd-f9bb-4e34-8d24-3b9e9351f8cb",
   "metadata": {},
   "outputs": [],
   "source": [
    "# StandardScaler 객체를 생성해 표준화 진행 후 DataFrame으로 변환하여 저장\n",
    "\n",
    "x_trans = StandardScaler().fit_transform(x.values)\n",
    "x_trans = pd.DataFrame(x_trans, columns = features)"
   ]
  },
  {
   "cell_type": "code",
   "execution_count": 8,
   "id": "f6b91348-b8de-47bf-a2ac-5724ec063a58",
   "metadata": {},
   "outputs": [],
   "source": [
    "# 선형 차원 축소 중 주성분 분석 (Principal Component Analysis) 패키지\n",
    "\n",
    "from sklearn.decomposition import PCA"
   ]
  },
  {
   "cell_type": "code",
   "execution_count": 9,
   "id": "58181eb1-37fe-4aca-89de-ebaf434685c7",
   "metadata": {},
   "outputs": [
    {
     "name": "stdout",
     "output_type": "stream",
     "text": [
      "The number of Principal components : 10 \n",
      " Explained Variance Ratios : [0.24551941 0.13881536 0.11325475 0.09884774 0.07043014 0.05871246\n",
      " 0.04186105 0.03976766 0.03176228 0.02947055] \n",
      " The Sum of Explained Variance Ratios : 0.8684413984029842\n",
      "\n",
      "The number of Principal components : 11 \n",
      " Explained Variance Ratios : [0.24551941 0.13881536 0.11325475 0.09884774 0.07043014 0.05871246\n",
      " 0.04186105 0.03976766 0.03176228 0.02947055 0.02865634] \n",
      " The Sum of Explained Variance Ratios : 0.8970977344066479\n",
      "\n",
      "The number of Principal components : 12 \n",
      " Explained Variance Ratios : [0.24551941 0.13881536 0.11325475 0.09884774 0.07043014 0.05871246\n",
      " 0.04186105 0.03976766 0.03176228 0.02947055 0.02865634 0.02517014] \n",
      " The Sum of Explained Variance Ratios : 0.9222678780651069\n",
      "\n",
      "The number of Principal components : 13 \n",
      " Explained Variance Ratios : [0.24551941 0.13881536 0.11325475 0.09884774 0.07043014 0.05871246\n",
      " 0.04186105 0.03976766 0.03176228 0.02947055 0.02865634 0.02517014\n",
      " 0.01891235] \n",
      " The Sum of Explained Variance Ratios : 0.9411802259088426\n",
      "\n",
      "The number of Principal components : 14 \n",
      " Explained Variance Ratios : [0.24551941 0.13881536 0.11325475 0.09884774 0.07043014 0.05871246\n",
      " 0.04186105 0.03976766 0.03176228 0.02947055 0.02865634 0.02517014\n",
      " 0.01891235 0.01422992] \n",
      " The Sum of Explained Variance Ratios : 0.9554101422831782\n",
      "\n"
     ]
    }
   ],
   "source": [
    "# 주성분 분석을 통해 적절한 수준의 설명력을 가진 주성분 수 선정\n",
    "\n",
    "for i in range(10,15):\n",
    "    pca = PCA(n_components = i)\n",
    "    pca.fit_transform(x_trans)\n",
    "    print('The number of Principal components : {} \\n Explained Variance Ratios : {} \\n The Sum of Explained Variance Ratios : {}'\n",
    "      .format(i, pca.explained_variance_ratio_, sum(pca.explained_variance_ratio_)))\n",
    "    print()"
   ]
  },
  {
   "cell_type": "code",
   "execution_count": 10,
   "id": "2373891f-0d92-48f8-ace4-05fc06efd341",
   "metadata": {},
   "outputs": [
    {
     "name": "stdout",
     "output_type": "stream",
     "text": [
      "The number of Principal components : 12 \n",
      " Explained Variance Ratios : [0.24551941 0.13881536 0.11325475 0.09884774 0.07043014 0.05871246\n",
      " 0.04186105 0.03976766 0.03176228 0.02947055 0.02865634 0.02517014] \n",
      " The Sum of Explained Variance Ratios : 0.9222678780651069\n"
     ]
    }
   ],
   "source": [
    "# 주성분 12개가 설명력 0.9를 처음 초과하므로 11개를 선택했다.\n",
    "# 선택할 설명력 수준은 추후 논의\n",
    "\n",
    "n = 12\n",
    "pca = PCA(n_components = n)\n",
    "pca_values = pca.fit_transform(x_trans)\n",
    "\n",
    "print('The number of Principal components : {} \\n Explained Variance Ratios : {} \\n The Sum of Explained Variance Ratios : {}'\n",
    "  .format(n, pca.explained_variance_ratio_, sum(pca.explained_variance_ratio_)))"
   ]
  },
  {
   "cell_type": "code",
   "execution_count": 11,
   "id": "bcf66c6f-9c02-408e-9196-05e78a592805",
   "metadata": {},
   "outputs": [],
   "source": [
    "names = []\n",
    "ch = 'PC '\n",
    "for i in range(1, n + 1):\n",
    "    names.append(ch + str(i))"
   ]
  },
  {
   "cell_type": "code",
   "execution_count": 12,
   "id": "80926475-57b5-462d-9017-1971ee97d50b",
   "metadata": {},
   "outputs": [],
   "source": [
    "# Data Frame으로 변환 후 csv 파일로 출력\n",
    "\n",
    "principal_df = pd.DataFrame(data = pca_values, columns = names)\n",
    "#principal_df.to_csv('Full_PCA.csv', encoding = 'cp949') # cp949는 한글 인코딩"
   ]
  },
  {
   "cell_type": "code",
   "execution_count": 13,
   "id": "c1c4c9fa-7d52-44be-90bb-050af5cc32bf",
   "metadata": {},
   "outputs": [
    {
     "name": "stdout",
     "output_type": "stream",
     "text": [
      " The number of principal components : PC 1 \n",
      " Correlation with y : 0.18988064187187953\n",
      "\n",
      " The number of principal components : PC 2 \n",
      " Correlation with y : 0.21315694984571298\n",
      "\n",
      " The number of principal components : PC 3 \n",
      " Correlation with y : 0.15010704010347245\n",
      "\n",
      " The number of principal components : PC 4 \n",
      " Correlation with y : 0.018022097357945306\n",
      "\n",
      " The number of principal components : PC 5 \n",
      " Correlation with y : -0.0015220667406586012\n",
      "\n",
      " The number of principal components : PC 6 \n",
      " Correlation with y : -0.018512833144727715\n",
      "\n",
      " The number of principal components : PC 7 \n",
      " Correlation with y : -0.020500378425988085\n",
      "\n",
      " The number of principal components : PC 8 \n",
      " Correlation with y : 0.018664252116240256\n",
      "\n",
      " The number of principal components : PC 9 \n",
      " Correlation with y : -0.006415762807513683\n",
      "\n",
      " The number of principal components : PC 10 \n",
      " Correlation with y : -0.03781451896601686\n",
      "\n",
      " The number of principal components : PC 11 \n",
      " Correlation with y : 0.013510699163539445\n",
      "\n",
      " The number of principal components : PC 12 \n",
      " Correlation with y : -0.0063361947365186124\n",
      "\n",
      "['PC 1', 'PC 2', 'PC 3']\n"
     ]
    }
   ],
   "source": [
    "import numpy as np\n",
    "\n",
    "#각 주성분 상관 분석\n",
    "\n",
    "high = []\n",
    "\n",
    "for i in names:\n",
    "    print(' The number of principal components : {} \\n Correlation with y : {}'.format(i, np.corrcoef(principal_df[i], y)[0,1]))\n",
    "    print()\n",
    "    if abs(np.corrcoef(principal_df[i], y)[0,1]) > 0.1:\n",
    "        high.append(i)\n",
    "\n",
    "print(high)"
   ]
  },
  {
   "cell_type": "markdown",
   "id": "16c5879b-1a14-4d33-9c46-8355a22f435d",
   "metadata": {},
   "source": [
    "### 예측"
   ]
  },
  {
   "cell_type": "code",
   "execution_count": 14,
   "id": "313c8bf2-7818-47f3-b312-7ca65f702bde",
   "metadata": {},
   "outputs": [],
   "source": [
    "# 선형 회귀 패키지\n",
    "\n",
    "from sklearn.linear_model import LinearRegression"
   ]
  },
  {
   "cell_type": "code",
   "execution_count": 15,
   "id": "0a6eed18-5f3d-4910-af84-da361b46ff94",
   "metadata": {},
   "outputs": [],
   "source": [
    "linear = LinearRegression() # 객체 생성\n",
    "linear.fit(principal_df, y) # 모델 적합\n",
    "error_linear = y - linear.predict(principal_df)"
   ]
  },
  {
   "cell_type": "code",
   "execution_count": 16,
   "id": "373ce597-5d56-4e36-8fdb-4b5e6680caa3",
   "metadata": {},
   "outputs": [
    {
     "data": {
      "text/html": [
       "<div>\n",
       "<style scoped>\n",
       "    .dataframe tbody tr th:only-of-type {\n",
       "        vertical-align: middle;\n",
       "    }\n",
       "\n",
       "    .dataframe tbody tr th {\n",
       "        vertical-align: top;\n",
       "    }\n",
       "\n",
       "    .dataframe thead th {\n",
       "        text-align: right;\n",
       "    }\n",
       "</style>\n",
       "<table border=\"1\" class=\"dataframe\">\n",
       "  <thead>\n",
       "    <tr style=\"text-align: right;\">\n",
       "      <th></th>\n",
       "      <th>동</th>\n",
       "      <th>오차</th>\n",
       "    </tr>\n",
       "  </thead>\n",
       "  <tbody>\n",
       "    <tr>\n",
       "      <th>0</th>\n",
       "      <td>용신동</td>\n",
       "      <td>-1.09007</td>\n",
       "    </tr>\n",
       "    <tr>\n",
       "      <th>1</th>\n",
       "      <td>중화2동</td>\n",
       "      <td>-1.02798</td>\n",
       "    </tr>\n",
       "    <tr>\n",
       "      <th>2</th>\n",
       "      <td>수유3동</td>\n",
       "      <td>-1.037325</td>\n",
       "    </tr>\n",
       "    <tr>\n",
       "      <th>3</th>\n",
       "      <td>송천동</td>\n",
       "      <td>-1.079558</td>\n",
       "    </tr>\n",
       "    <tr>\n",
       "      <th>4</th>\n",
       "      <td>화곡본동</td>\n",
       "      <td>-1.133327</td>\n",
       "    </tr>\n",
       "    <tr>\n",
       "      <th>5</th>\n",
       "      <td>화곡1동</td>\n",
       "      <td>-1.164374</td>\n",
       "    </tr>\n",
       "    <tr>\n",
       "      <th>6</th>\n",
       "      <td>상도4동</td>\n",
       "      <td>-1.079295</td>\n",
       "    </tr>\n",
       "    <tr>\n",
       "      <th>7</th>\n",
       "      <td>행운동</td>\n",
       "      <td>-1.079962</td>\n",
       "    </tr>\n",
       "    <tr>\n",
       "      <th>8</th>\n",
       "      <td>신원동</td>\n",
       "      <td>-1.101283</td>\n",
       "    </tr>\n",
       "  </tbody>\n",
       "</table>\n",
       "</div>"
      ],
      "text/plain": [
       "      동        오차\n",
       "0   용신동  -1.09007\n",
       "1  중화2동  -1.02798\n",
       "2  수유3동 -1.037325\n",
       "3   송천동 -1.079558\n",
       "4  화곡본동 -1.133327\n",
       "5  화곡1동 -1.164374\n",
       "6  상도4동 -1.079295\n",
       "7   행운동 -1.079962\n",
       "8   신원동 -1.101283"
      ]
     },
     "execution_count": 16,
     "metadata": {},
     "output_type": "execute_result"
    }
   ],
   "source": [
    "# 에러가 -1 미만일 경우 한 개 이상의 무인 택배함이 더 필요하다는 것을 뜻한다. \n",
    "\n",
    "lin_reg = pd.DataFrame(columns = ['동', '오차'])\n",
    "counter = 0\n",
    "number = 0\n",
    "\n",
    "for i in error_linear:\n",
    "    if i < -1:\n",
    "        lin_reg.at[number, '동'] = data.iloc[counter, 1]\n",
    "        lin_reg.at[number, '오차'] = i\n",
    "        number += 1\n",
    "    counter += 1\n",
    "lin_reg"
   ]
  },
  {
   "cell_type": "code",
   "execution_count": 17,
   "id": "4994d671-4ebf-430a-8344-199ad804fbd9",
   "metadata": {},
   "outputs": [],
   "source": [
    "# https://blog.naver.com/PostView.nhn?blogId=ssdyka&logNo=221231456916\n",
    "# 릿지 회귀에 관한 글\n",
    "# 릿지 회귀를 위한 패키지\n",
    "\n",
    "from sklearn.linear_model import Ridge"
   ]
  },
  {
   "cell_type": "code",
   "execution_count": 18,
   "id": "9c7d8453-6abe-4ac4-a42d-1e8bdeaa7785",
   "metadata": {},
   "outputs": [],
   "source": [
    "ridge = Ridge(alpha = 0.5) # alpha 값이 의미하는 것도 정확히 이해되지 않고, 값을 바꿔도 결과는 크게 달라지지 않는 것 같다.\n",
    "ridge.fit(principal_df, y) # 모델 적합\n",
    "error_ridge = y - ridge.predict(principal_df)"
   ]
  },
  {
   "cell_type": "code",
   "execution_count": 19,
   "id": "b248edc5-c584-4abb-b2a9-1dd6a7de44f8",
   "metadata": {},
   "outputs": [
    {
     "name": "stdout",
     "output_type": "stream",
     "text": [
      " Value : -1.089824833795522 \n",
      " Index : 84 \n",
      " Name : 용신동\n",
      "\n",
      " Value : -1.0278543556668782 \n",
      " Index : 101 \n",
      " Name : 중화2동\n",
      "\n",
      " Value : -1.037191078674538 \n",
      " Index : 135 \n",
      " Name : 수유3동\n",
      "\n",
      " Value : -1.0793843431345853 \n",
      " Index : 139 \n",
      " Name : 송천동\n",
      "\n",
      " Value : -1.1331465756893098 \n",
      " Index : 244 \n",
      " Name : 화곡본동\n",
      "\n",
      " Value : -1.16404279358198 \n",
      " Index : 258 \n",
      " Name : 화곡1동\n",
      "\n",
      " Value : -1.07908374562172 \n",
      " Index : 308 \n",
      " Name : 상도4동\n",
      "\n",
      " Value : -1.0797685753469564 \n",
      " Index : 321 \n",
      " Name : 행운동\n",
      "\n",
      " Value : -1.1010139125413398 \n",
      " Index : 327 \n",
      " Name : 신원동\n",
      "\n",
      "The number of big error : 9\n"
     ]
    }
   ],
   "source": [
    "counter = 0\n",
    "number = 0\n",
    "\n",
    "for i in error_ridge:\n",
    "    if i < -1:\n",
    "        print(' Value : {} \\n Index : {} \\n Name : {}'.format(i, counter, data.iloc[counter, 1]))\n",
    "        print()\n",
    "        number += 1\n",
    "    counter += 1\n",
    "print('The number of big error : {}'.format(number))"
   ]
  },
  {
   "cell_type": "markdown",
   "id": "f5f267f4-ef75-48ff-ac3d-d7f3bf4e78ce",
   "metadata": {},
   "source": [
    "### 분류"
   ]
  },
  {
   "cell_type": "code",
   "execution_count": 20,
   "id": "6f4a9463-7c65-483e-87b7-eff7769febd4",
   "metadata": {},
   "outputs": [
    {
     "name": "stdout",
     "output_type": "stream",
     "text": [
      "3 : 9, 4 : 5, 5+ : 1\n"
     ]
    }
   ],
   "source": [
    "# 택배함이 5개 이상 설치된 곳은 한 군데 뿐이므로 분류의 정확도를 위해 4개 이상 택배함이 설치된 행정동은 4개 이상으로 통일한다.\n",
    "\n",
    "three = 0\n",
    "four = 0\n",
    "over = 0\n",
    "\n",
    "for i in y:\n",
    "    if i == 3:\n",
    "        three += 1\n",
    "    elif i == 4:\n",
    "        four += 1\n",
    "    elif i > 4:\n",
    "        over += 1\n",
    "\n",
    "print('3 : {}, 4 : {}, 5+ : {}'.format(three, four, over))\n",
    "\n",
    "y_trans = []\n",
    "\n",
    "for i in y:\n",
    "    if i > 4:\n",
    "        y_trans.append(4)\n",
    "    else:\n",
    "        y_trans.append(i)"
   ]
  },
  {
   "cell_type": "code",
   "execution_count": 21,
   "id": "9ce29161-30cc-4ab5-b932-ade8caa009fb",
   "metadata": {},
   "outputs": [],
   "source": [
    "# 로지스틱 회귀 패키지\n",
    "\n",
    "from sklearn.linear_model import LogisticRegression"
   ]
  },
  {
   "cell_type": "code",
   "execution_count": 22,
   "id": "81a354ee-0698-414e-8da7-84e520cf23a7",
   "metadata": {},
   "outputs": [],
   "source": [
    "logis = LogisticRegression(max_iter = 100) # max_iter는 수렴을 위한 반복 수이다.\n",
    "logis.fit(x_trans, y_trans) # 모델 적합\n",
    "error_logis = y_trans - logis.predict(x_trans)"
   ]
  },
  {
   "cell_type": "code",
   "execution_count": 23,
   "id": "913e8843-982c-4af1-9a3b-34dd9417c6b9",
   "metadata": {},
   "outputs": [
    {
     "data": {
      "text/html": [
       "<div>\n",
       "<style scoped>\n",
       "    .dataframe tbody tr th:only-of-type {\n",
       "        vertical-align: middle;\n",
       "    }\n",
       "\n",
       "    .dataframe tbody tr th {\n",
       "        vertical-align: top;\n",
       "    }\n",
       "\n",
       "    .dataframe thead th {\n",
       "        text-align: right;\n",
       "    }\n",
       "</style>\n",
       "<table border=\"1\" class=\"dataframe\">\n",
       "  <thead>\n",
       "    <tr style=\"text-align: right;\">\n",
       "      <th></th>\n",
       "      <th>동</th>\n",
       "      <th>오차</th>\n",
       "    </tr>\n",
       "  </thead>\n",
       "  <tbody>\n",
       "    <tr>\n",
       "      <th>0</th>\n",
       "      <td>휘경2동</td>\n",
       "      <td>-1</td>\n",
       "    </tr>\n",
       "    <tr>\n",
       "      <th>1</th>\n",
       "      <td>청량리동</td>\n",
       "      <td>-1</td>\n",
       "    </tr>\n",
       "    <tr>\n",
       "      <th>2</th>\n",
       "      <td>용신동</td>\n",
       "      <td>-1</td>\n",
       "    </tr>\n",
       "    <tr>\n",
       "      <th>3</th>\n",
       "      <td>중화2동</td>\n",
       "      <td>-1</td>\n",
       "    </tr>\n",
       "    <tr>\n",
       "      <th>4</th>\n",
       "      <td>송천동</td>\n",
       "      <td>-1</td>\n",
       "    </tr>\n",
       "    <tr>\n",
       "      <th>5</th>\n",
       "      <td>서강동</td>\n",
       "      <td>-1</td>\n",
       "    </tr>\n",
       "    <tr>\n",
       "      <th>6</th>\n",
       "      <td>공덕동</td>\n",
       "      <td>-1</td>\n",
       "    </tr>\n",
       "    <tr>\n",
       "      <th>7</th>\n",
       "      <td>화곡1동</td>\n",
       "      <td>-1</td>\n",
       "    </tr>\n",
       "    <tr>\n",
       "      <th>8</th>\n",
       "      <td>독산3동</td>\n",
       "      <td>-1</td>\n",
       "    </tr>\n",
       "    <tr>\n",
       "      <th>9</th>\n",
       "      <td>독산4동</td>\n",
       "      <td>-1</td>\n",
       "    </tr>\n",
       "    <tr>\n",
       "      <th>10</th>\n",
       "      <td>시흥5동</td>\n",
       "      <td>-1</td>\n",
       "    </tr>\n",
       "    <tr>\n",
       "      <th>11</th>\n",
       "      <td>상도4동</td>\n",
       "      <td>-1</td>\n",
       "    </tr>\n",
       "    <tr>\n",
       "      <th>12</th>\n",
       "      <td>신원동</td>\n",
       "      <td>-1</td>\n",
       "    </tr>\n",
       "    <tr>\n",
       "      <th>13</th>\n",
       "      <td>삼전동</td>\n",
       "      <td>-3</td>\n",
       "    </tr>\n",
       "    <tr>\n",
       "      <th>14</th>\n",
       "      <td>성내2동</td>\n",
       "      <td>-2</td>\n",
       "    </tr>\n",
       "  </tbody>\n",
       "</table>\n",
       "</div>"
      ],
      "text/plain": [
       "       동  오차\n",
       "0   휘경2동  -1\n",
       "1   청량리동  -1\n",
       "2    용신동  -1\n",
       "3   중화2동  -1\n",
       "4    송천동  -1\n",
       "5    서강동  -1\n",
       "6    공덕동  -1\n",
       "7   화곡1동  -1\n",
       "8   독산3동  -1\n",
       "9   독산4동  -1\n",
       "10  시흥5동  -1\n",
       "11  상도4동  -1\n",
       "12   신원동  -1\n",
       "13   삼전동  -3\n",
       "14  성내2동  -2"
      ]
     },
     "execution_count": 23,
     "metadata": {},
     "output_type": "execute_result"
    }
   ],
   "source": [
    "counter = 0\n",
    "number = 0\n",
    "log_reg = pd.DataFrame(columns = ['동', '오차'])\n",
    "for i in error_logis:\n",
    "    if i < 0:\n",
    "        log_reg.at[number, '동'] = data.iloc[counter, 1]\n",
    "        log_reg.at[number, '오차'] = i\n",
    "        number += 1\n",
    "    counter += 1\n",
    "log_reg"
   ]
  },
  {
   "cell_type": "code",
   "execution_count": 24,
   "id": "b6ebe7e8-e7e7-4fd4-b55b-53d8f93bc21e",
   "metadata": {},
   "outputs": [],
   "source": [
    "# 서포트 벡터 머신 패키지\n",
    "\n",
    "from sklearn.svm import SVC"
   ]
  },
  {
   "cell_type": "code",
   "execution_count": 25,
   "id": "05751ccc-18c4-4469-88d9-5d4441b30b4d",
   "metadata": {},
   "outputs": [],
   "source": [
    "svm_lin = SVC(kernel = 'linear') # 선형 커널 객체 생성\n",
    "svm_lin.fit(x_trans, y_trans) # 모델 적합\n",
    "error_svm_lin = y_trans - svm_lin.predict(x_trans)"
   ]
  },
  {
   "cell_type": "code",
   "execution_count": 26,
   "id": "286d6a05-f20d-4478-9e6e-ea85d12a153e",
   "metadata": {},
   "outputs": [
    {
     "name": "stdout",
     "output_type": "stream",
     "text": [
      "The number of big error : 0\n"
     ]
    }
   ],
   "source": [
    "counter = 0\n",
    "number = 0\n",
    "\n",
    "for i in error_svm_lin:\n",
    "    if i < 0:\n",
    "        print(' Name : {} \\n Error : {}'.format(data.iloc[counter, 1], i))\n",
    "        print()\n",
    "        number += 1\n",
    "    counter += 1\n",
    "    \n",
    "print('The number of big error : {}'.format(number))"
   ]
  },
  {
   "cell_type": "code",
   "execution_count": 27,
   "id": "d76c664d-b720-4432-9949-d7f3a4a022f6",
   "metadata": {},
   "outputs": [],
   "source": [
    "svm_rbf = SVC(kernel = 'rbf') # Residual Basis Function 커널 객체 생성\n",
    "svm_rbf.fit(x_trans, y_trans) # 모델 적합\n",
    "error_svm_rbf = y_trans - svm_rbf.predict(x_trans)"
   ]
  },
  {
   "cell_type": "code",
   "execution_count": 28,
   "id": "0f37e945-5d1f-41af-965e-c37e3c7a5518",
   "metadata": {},
   "outputs": [
    {
     "name": "stdout",
     "output_type": "stream",
     "text": [
      " Name : 휘경2동 \n",
      " Error : -1\n",
      "\n",
      " Name : 용신동 \n",
      " Error : -1\n",
      "\n",
      " Name : 흑석동 \n",
      " Error : -1\n",
      "\n",
      "The number of big error : 3\n"
     ]
    }
   ],
   "source": [
    "counter = 0\n",
    "number = 0\n",
    "\n",
    "for i in error_svm_rbf:\n",
    "    if i < 0:\n",
    "        print(' Name : {} \\n Error : {}'.format(data.iloc[counter, 1], i))\n",
    "        print()\n",
    "        number += 1\n",
    "    counter += 1\n",
    "    \n",
    "print('The number of big error : {}'.format(number))"
   ]
  },
  {
   "cell_type": "code",
   "execution_count": 29,
   "id": "36eb3f1c-cba2-40c6-8809-2abea6c6e166",
   "metadata": {},
   "outputs": [],
   "source": [
    "# 랜덤 포레스트 패키지\n",
    "\n",
    "from sklearn.ensemble import RandomForestClassifier"
   ]
  },
  {
   "cell_type": "code",
   "execution_count": 30,
   "id": "04735e7c-01ee-4586-adcf-64904ef914f7",
   "metadata": {},
   "outputs": [],
   "source": [
    "clf = RandomForestClassifier() # 매개 변수들에 변화를 줄 수 있다. \n",
    "clf.fit(x_trans, y_trans) # 모델 적합\n",
    "error_rf = y_trans - clf.predict(x_trans)"
   ]
  },
  {
   "cell_type": "code",
   "execution_count": 31,
   "id": "d9473f6a-e68a-4c42-a164-971ef9112d7b",
   "metadata": {},
   "outputs": [
    {
     "name": "stdout",
     "output_type": "stream",
     "text": [
      "The number of big error : 0\n"
     ]
    }
   ],
   "source": [
    "counter = 0\n",
    "number = 0\n",
    "\n",
    "for i in error_rf:\n",
    "    if i < 0:\n",
    "        print(' Name : {} \\n Error : {}'.format(data.iloc[counter, 1], i))\n",
    "        print()\n",
    "        number += 1\n",
    "    counter += 1\n",
    "    \n",
    "print('The number of big error : {}'.format(number))"
   ]
  },
  {
   "cell_type": "code",
   "execution_count": 32,
   "id": "0f796f28-e181-4b78-9046-f3e7401554c7",
   "metadata": {},
   "outputs": [
    {
     "data": {
      "text/html": [
       "<div>\n",
       "<style scoped>\n",
       "    .dataframe tbody tr th:only-of-type {\n",
       "        vertical-align: middle;\n",
       "    }\n",
       "\n",
       "    .dataframe tbody tr th {\n",
       "        vertical-align: top;\n",
       "    }\n",
       "\n",
       "    .dataframe thead th {\n",
       "        text-align: right;\n",
       "    }\n",
       "</style>\n",
       "<table border=\"1\" class=\"dataframe\">\n",
       "  <thead>\n",
       "    <tr style=\"text-align: right;\">\n",
       "      <th></th>\n",
       "      <th>동</th>\n",
       "      <th>오차_x</th>\n",
       "      <th>오차_y</th>\n",
       "    </tr>\n",
       "  </thead>\n",
       "  <tbody>\n",
       "    <tr>\n",
       "      <th>0</th>\n",
       "      <td>용신동</td>\n",
       "      <td>-1</td>\n",
       "      <td>-1.09007</td>\n",
       "    </tr>\n",
       "    <tr>\n",
       "      <th>1</th>\n",
       "      <td>중화2동</td>\n",
       "      <td>-1</td>\n",
       "      <td>-1.02798</td>\n",
       "    </tr>\n",
       "    <tr>\n",
       "      <th>2</th>\n",
       "      <td>송천동</td>\n",
       "      <td>-1</td>\n",
       "      <td>-1.079558</td>\n",
       "    </tr>\n",
       "    <tr>\n",
       "      <th>3</th>\n",
       "      <td>화곡1동</td>\n",
       "      <td>-1</td>\n",
       "      <td>-1.164374</td>\n",
       "    </tr>\n",
       "    <tr>\n",
       "      <th>4</th>\n",
       "      <td>상도4동</td>\n",
       "      <td>-1</td>\n",
       "      <td>-1.079295</td>\n",
       "    </tr>\n",
       "    <tr>\n",
       "      <th>5</th>\n",
       "      <td>신원동</td>\n",
       "      <td>-1</td>\n",
       "      <td>-1.101283</td>\n",
       "    </tr>\n",
       "  </tbody>\n",
       "</table>\n",
       "</div>"
      ],
      "text/plain": [
       "      동 오차_x      오차_y\n",
       "0   용신동   -1  -1.09007\n",
       "1  중화2동   -1  -1.02798\n",
       "2   송천동   -1 -1.079558\n",
       "3  화곡1동   -1 -1.164374\n",
       "4  상도4동   -1 -1.079295\n",
       "5   신원동   -1 -1.101283"
      ]
     },
     "execution_count": 32,
     "metadata": {},
     "output_type": "execute_result"
    }
   ],
   "source": [
    "pd.merge(log_reg, lin_reg, how = 'inner', on = '동')"
   ]
  },
  {
   "cell_type": "code",
   "execution_count": null,
   "id": "f1758206-5731-43af-8823-c7952080ada6",
   "metadata": {},
   "outputs": [],
   "source": []
  }
 ],
 "metadata": {
  "kernelspec": {
   "display_name": "Python 3",
   "language": "python",
   "name": "python3"
  },
  "language_info": {
   "codemirror_mode": {
    "name": "ipython",
    "version": 3
   },
   "file_extension": ".py",
   "mimetype": "text/x-python",
   "name": "python",
   "nbconvert_exporter": "python",
   "pygments_lexer": "ipython3",
   "version": "3.8.8"
  }
 },
 "nbformat": 4,
 "nbformat_minor": 5
}
