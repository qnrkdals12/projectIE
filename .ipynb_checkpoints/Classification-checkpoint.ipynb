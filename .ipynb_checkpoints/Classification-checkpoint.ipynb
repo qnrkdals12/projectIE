{
 "cells": [
  {
   "cell_type": "code",
   "execution_count": 1,
   "id": "69a82263-6340-4360-8e61-1cd52e2d9164",
   "metadata": {},
   "outputs": [],
   "source": [
    "import pandas as pd"
   ]
  },
  {
   "cell_type": "code",
   "execution_count": 2,
   "id": "d9c6913e-57fc-465c-be5d-e456f2a26705",
   "metadata": {},
   "outputs": [
    {
     "name": "stdout",
     "output_type": "stream",
     "text": [
      "['PCA.csv', 'allllll.csv']\n"
     ]
    }
   ],
   "source": [
    "# csv 확장자 파일 목록 가져오기\n",
    "\n",
    "import os\n",
    "\n",
    "files = []\n",
    "\n",
    "for i in os.listdir():\n",
    "    if i.endswith('.csv'):\n",
    "        files.append(i)\n",
    "\n",
    "print(files)"
   ]
  },
  {
   "cell_type": "code",
   "execution_count": 3,
   "id": "08424c0a-6e75-4040-b428-850b1c244a0b",
   "metadata": {},
   "outputs": [
    {
     "data": {
      "text/plain": [
       "0      0\n",
       "1      0\n",
       "2      0\n",
       "3      0\n",
       "4      0\n",
       "      ..\n",
       "426    0\n",
       "427    0\n",
       "428    1\n",
       "429    0\n",
       "430    0\n",
       "Name: 택배함수, Length: 431, dtype: int64"
      ]
     },
     "execution_count": 3,
     "metadata": {},
     "output_type": "execute_result"
    }
   ],
   "source": [
    "data = pd.read_csv(files[0]) # PCA가 진행된 데이터\n",
    "data.drop('Unnamed: 0', axis = 1, inplace = True) # 불필요한 열 제거\n",
    "original = pd.read_csv(files[1]) #기존 데이터\n",
    "y = original['택배함수'] # Label 데이터\n",
    "y.astype(int) # 실수로 된 데이터 정수로"
   ]
  },
  {
   "cell_type": "code",
   "execution_count": 4,
   "id": "90b22477-0881-4735-8d9c-0441cca0aa3e",
   "metadata": {},
   "outputs": [
    {
     "name": "stdout",
     "output_type": "stream",
     "text": [
      "3 : 15, 4 : 5, 5+ : 1\n"
     ]
    }
   ],
   "source": [
    "# 택배함이 5개 이상 설치된 곳은 한 군데 뿐이므로 분류의 정확도를 위해 4개 이상 택배함이 설치된 행정동은 4개 이상으로 통일한다.\n",
    "\n",
    "three = 0\n",
    "four = 0\n",
    "over = 0\n",
    "\n",
    "for i in y:\n",
    "    if i == 3:\n",
    "        three += 1\n",
    "    elif i == 4:\n",
    "        four += 1\n",
    "    elif i > 4:\n",
    "        over += 1\n",
    "\n",
    "print('3 : {}, 4 : {}, 5+ : {}'.format(three, four, over))\n",
    "\n",
    "transformed_y = []\n",
    "\n",
    "for i in y:\n",
    "    if i > 4:\n",
    "        transformed_y.append(4)\n",
    "    else:\n",
    "        transformed_y.append(i)"
   ]
  },
  {
   "cell_type": "code",
   "execution_count": 5,
   "id": "6056738d-1976-456d-ab9e-742567a4e2ba",
   "metadata": {},
   "outputs": [],
   "source": [
    "# 로지스틱 회귀 패키지\n",
    "\n",
    "from sklearn.linear_model import LogisticRegression"
   ]
  },
  {
   "cell_type": "code",
   "execution_count": 6,
   "id": "6b03dab3-d5f5-43b8-9bcf-3868ec25fcab",
   "metadata": {},
   "outputs": [],
   "source": [
    "logis = LogisticRegression(max_iter = 5000) # max_iter이 5000보다 작을 경우 모델이 수렴하지 않는다. 들어오는 데이터가 달라지면 줄일 수도 있다.\n",
    "logis.fit(data, transformed_y) # 모델 적합\n",
    "error_logis = transformed_y - logis.predict(data)"
   ]
  },
  {
   "cell_type": "code",
   "execution_count": 7,
   "id": "c1914f4a-8a91-46d7-84e7-bc192ea56764",
   "metadata": {},
   "outputs": [
    {
     "name": "stdout",
     "output_type": "stream",
     "text": [
      " Name : 용신동 \n",
      " Error : -1.0\n",
      "\n",
      " Name : 신촌동 \n",
      " Error : -1.0\n",
      "\n",
      " Name : 가양1동 \n",
      " Error : -1.0\n",
      "\n",
      " Name : 화곡1동 \n",
      " Error : -1.0\n",
      "\n",
      " Name : 당산2동 \n",
      " Error : -1.0\n",
      "\n",
      " Name : 영등포동 \n",
      " Error : -1.0\n",
      "\n",
      " Name : 서림동 \n",
      " Error : -1.0\n",
      "\n",
      "The number of big error : 7\n"
     ]
    }
   ],
   "source": [
    "counter = 0\n",
    "number = 0\n",
    "\n",
    "for i in error_logis:\n",
    "    if i < 0:\n",
    "        print(' Name : {} \\n Error : {}'.format(original.iloc[counter, 1], i))\n",
    "        print()\n",
    "        number += 1\n",
    "    counter += 1\n",
    "\n",
    "print('The number of big error : {}'.format(number))"
   ]
  },
  {
   "cell_type": "code",
   "execution_count": 8,
   "id": "08003d89-f589-4a4a-ab95-7ec0f890ea64",
   "metadata": {},
   "outputs": [],
   "source": [
    "# 서포트 벡터 머신 패키지\n",
    "\n",
    "from sklearn.svm import SVC"
   ]
  },
  {
   "cell_type": "code",
   "execution_count": 9,
   "id": "88765c2d-3a3f-4664-bd41-842c13d27bc0",
   "metadata": {},
   "outputs": [],
   "source": [
    "svm_lin = SVC(kernel = 'linear') # 선형 커널 객체 생성\n",
    "svm_lin.fit(data, transformed_y) # 모델 적합\n",
    "error_svm_lin = transformed_y - svm_lin.predict(data)"
   ]
  },
  {
   "cell_type": "code",
   "execution_count": 10,
   "id": "86ecb202-e5da-4ba6-8675-79c94bcabbca",
   "metadata": {},
   "outputs": [
    {
     "name": "stdout",
     "output_type": "stream",
     "text": [
      "The number of big error : 0\n"
     ]
    }
   ],
   "source": [
    "counter = 0\n",
    "number = 0\n",
    "\n",
    "for i in error_svm_lin:\n",
    "    if i < 0:\n",
    "        print(' Name : {} \\n Error : {}'.format(original.iloc[counter, 1], i))\n",
    "        print()\n",
    "        number += 1\n",
    "    counter += 1\n",
    "    \n",
    "print('The number of big error : {}'.format(number))"
   ]
  },
  {
   "cell_type": "code",
   "execution_count": 11,
   "id": "30abcbe0-283a-4bc3-9204-8031b30f2199",
   "metadata": {},
   "outputs": [],
   "source": [
    "# 선형 커널 서포트 벡터 머신에서는 유의한 결과를 얻지 못 했다."
   ]
  },
  {
   "cell_type": "code",
   "execution_count": 12,
   "id": "4610bc7a-ae4d-464a-b88a-742b168aed18",
   "metadata": {},
   "outputs": [],
   "source": [
    "svm_rbf = SVC(kernel = 'rbf') # Residual Basis Function 커널 객체 생성\n",
    "svm_rbf.fit(data, transformed_y) # 모델 적합\n",
    "error_svm_rbf = transformed_y - svm_rbf.predict(data)"
   ]
  },
  {
   "cell_type": "code",
   "execution_count": 13,
   "id": "b2837a36-e0bd-49cb-b42c-ccdeeea40908",
   "metadata": {},
   "outputs": [
    {
     "name": "stdout",
     "output_type": "stream",
     "text": [
      " Name : 영등포동 \n",
      " Error : -1.0\n",
      "\n",
      " Name : 논현1동 \n",
      " Error : -2.0\n",
      "\n",
      "The number of big error : 2\n"
     ]
    }
   ],
   "source": [
    "counter = 0\n",
    "number = 0\n",
    "\n",
    "for i in error_svm_rbf:\n",
    "    if i < 0:\n",
    "        print(' Name : {} \\n Error : {}'.format(original.iloc[counter, 1], i))\n",
    "        print()\n",
    "        number += 1\n",
    "    counter += 1\n",
    "    \n",
    "print('The number of big error : {}'.format(number))"
   ]
  },
  {
   "cell_type": "code",
   "execution_count": 14,
   "id": "47e4f8c4-daf8-43e2-9c71-5f561eeade99",
   "metadata": {},
   "outputs": [],
   "source": [
    "# RBF 커널 서포트 벡터 머신에서는 두 곳의 후보지를 얻었으나 논현1동은 다른 분석에서는 없던 새로운 후보지이다.\n",
    "# 우선 서포트 벡터 머신은 제외하는 것이 좋을 것 같다."
   ]
  },
  {
   "cell_type": "code",
   "execution_count": 15,
   "id": "2d46ca21-fd6b-4fe8-98a4-8e6e389d9675",
   "metadata": {},
   "outputs": [],
   "source": [
    "# 랜덤 포레스트 패키지\n",
    "\n",
    "from sklearn.ensemble import RandomForestClassifier"
   ]
  },
  {
   "cell_type": "code",
   "execution_count": 16,
   "id": "25348e27-9b26-4e20-9e15-07467a5182c9",
   "metadata": {},
   "outputs": [],
   "source": [
    "clf = RandomForestClassifier() # 매개 변수들에 변화를 줄 수 있다. \n",
    "clf.fit(data, transformed_y) # 모델 적합\n",
    "error_rf = transformed_y - clf.predict(data)"
   ]
  },
  {
   "cell_type": "code",
   "execution_count": 17,
   "id": "ade28104-caaf-408f-9cf9-93999436ef2b",
   "metadata": {},
   "outputs": [
    {
     "name": "stdout",
     "output_type": "stream",
     "text": [
      "The number of big error : 0\n"
     ]
    }
   ],
   "source": [
    "counter = 0\n",
    "number = 0\n",
    "\n",
    "for i in error_rf:\n",
    "    if i < 0:\n",
    "        print(' Name : {} \\n Error : {}'.format(original.iloc[counter, 1], i))\n",
    "        print()\n",
    "        number += 1\n",
    "    counter += 1\n",
    "    \n",
    "print('The number of big error : {}'.format(number))"
   ]
  },
  {
   "cell_type": "code",
   "execution_count": 18,
   "id": "5168f116-8c9a-4b1b-b21e-c472d8053584",
   "metadata": {},
   "outputs": [],
   "source": [
    "# 랜덤 포레스트도 유의한 결과를 얻지 못 했다."
   ]
  }
 ],
 "metadata": {
  "kernelspec": {
   "display_name": "Python 3",
   "language": "python",
   "name": "python3"
  },
  "language_info": {
   "codemirror_mode": {
    "name": "ipython",
    "version": 3
   },
   "file_extension": ".py",
   "mimetype": "text/x-python",
   "name": "python",
   "nbconvert_exporter": "python",
   "pygments_lexer": "ipython3",
   "version": "3.8.8"
  }
 },
 "nbformat": 4,
 "nbformat_minor": 5
}
