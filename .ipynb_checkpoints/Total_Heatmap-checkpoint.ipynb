{
 "cells": [
  {
   "cell_type": "code",
   "execution_count": 1,
   "id": "b70871a5-771d-44c1-b721-4e8cd7715788",
   "metadata": {},
   "outputs": [],
   "source": [
    "import folium\n",
    "import pandas as pd\n",
    "from folium import plugins"
   ]
  },
  {
   "cell_type": "markdown",
   "id": "b8c53081-6cd7-4cf2-a7b1-cdf2a82e27ce",
   "metadata": {},
   "source": [
    "## 용신동 공공기관"
   ]
  },
  {
   "cell_type": "code",
   "execution_count": 2,
   "id": "9a9f2935-4434-4313-b71b-99546d21d8e6",
   "metadata": {},
   "outputs": [],
   "source": [
    "public_yong = pd.read_excel('용신동.xlsx').iloc[:,:3]\n",
    "for row_index, row in enumerate(public_yong.itertuples()):\n",
    "    public_yong.iloc[row_index, -1] = row[-1].replace('(', '').replace(')', '').split(', ')\n",
    "    public_yong.iloc[row_index, -1] = [float(public_yong.iloc[row_index, -1][0]), float(public_yong.iloc[row_index, -1][1])]"
   ]
  },
  {
   "cell_type": "markdown",
   "id": "a64ba4d1-434e-478f-b93a-b43f7e26aae8",
   "metadata": {},
   "source": [
    "## 행운동, 화곡1동, 잠실본동 공공기관"
   ]
  },
  {
   "cell_type": "code",
   "execution_count": 3,
   "id": "6e1816a3-e211-4b65-b83b-854e186f52c3",
   "metadata": {},
   "outputs": [],
   "source": [
    "publics = []\n",
    "dongs = ['행운동', '화곡1동', '잠실본동']\n",
    "\n",
    "for i in dongs:\n",
    "    public = pd.read_excel(i + '.xlsx')\n",
    "    publics.append(public)"
   ]
  },
  {
   "cell_type": "markdown",
   "id": "38be1dc9-596f-4224-9f46-1e1019ff498a",
   "metadata": {},
   "source": [
    "## 지도 변수 추가 (Map)"
   ]
  },
  {
   "cell_type": "code",
   "execution_count": 4,
   "id": "d484320b-216b-4801-8389-50e5cd829ccf",
   "metadata": {},
   "outputs": [],
   "source": [
    "CENTER = [37.5648406, 126.9773030] # 서울 시청\n",
    "m = folium.Map(location=CENTER, zoom_start=11)"
   ]
  },
  {
   "cell_type": "markdown",
   "id": "7b2ae65e-4dd1-4399-b137-c0557965d15c",
   "metadata": {},
   "source": [
    "## 공공기관 지도에 추가 (Marker)"
   ]
  },
  {
   "cell_type": "code",
   "execution_count": 5,
   "id": "4156ed20-3d1d-4338-9d70-c1faf84df87a",
   "metadata": {},
   "outputs": [],
   "source": [
    "# 행운동, 화곡1동, 잠실본동\n",
    "\n",
    "for public_index, public in enumerate(publics):\n",
    "    for row_index, row in enumerate(public.itertuples()):\n",
    "        folium.Marker([float(public.loc[row_index, '위도']), float(public.loc[row_index, '경도'])], tooltip='<b>{}</b>'.format(public.loc[row_index, '이름'])).add_to(m)\n",
    "    \n",
    "# 용신동\n",
    "\n",
    "for index, value in enumerate(public_yong.itertuples()):\n",
    "    folium.Marker(value[-1], tooltip='<b>{}</b>'.format(value[1])).add_to(m)"
   ]
  },
  {
   "cell_type": "markdown",
   "id": "c42c7ebf-82b5-464f-99a9-4eb32cdfea4a",
   "metadata": {},
   "source": [
    "## 택배 착지량 히트맵 지도에 추가 (Heatmap)"
   ]
  },
  {
   "cell_type": "code",
   "execution_count": 6,
   "id": "819ae4cd-ba68-45ea-a030-26a662ee7d93",
   "metadata": {},
   "outputs": [
    {
     "data": {
      "text/plain": [
       "<folium.plugins.heat_map.HeatMap at 0x7faf4024edf0>"
      ]
     },
     "execution_count": 6,
     "metadata": {},
     "output_type": "execute_result"
    }
   ],
   "source": [
    "blocks = pd.read_excel('택배 착지량 통합.xlsx')\n",
    "location_data = blocks[['위도', '경도', '택배 착지량']].values[:len(blocks)].tolist()\n",
    "plugins.HeatMap(location_data).add_to(m)"
   ]
  },
  {
   "cell_type": "code",
   "execution_count": 7,
   "id": "984da059-ef85-4560-8a30-b8e996f42b83",
   "metadata": {},
   "outputs": [],
   "source": [
    "m.save('시각화.html')"
   ]
  }
 ],
 "metadata": {
  "kernelspec": {
   "display_name": "Python 3",
   "language": "python",
   "name": "python3"
  },
  "language_info": {
   "codemirror_mode": {
    "name": "ipython",
    "version": 3
   },
   "file_extension": ".py",
   "mimetype": "text/x-python",
   "name": "python",
   "nbconvert_exporter": "python",
   "pygments_lexer": "ipython3",
   "version": "3.8.8"
  }
 },
 "nbformat": 4,
 "nbformat_minor": 5
}
