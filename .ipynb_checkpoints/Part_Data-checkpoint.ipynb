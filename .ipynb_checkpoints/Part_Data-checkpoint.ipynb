{
 "cells": [
  {
   "cell_type": "code",
   "execution_count": 1,
   "id": "f472d5a4-db69-44fb-ab15-52b535faed6f",
   "metadata": {},
   "outputs": [],
   "source": [
    "import pandas as pd"
   ]
  },
  {
   "cell_type": "code",
   "execution_count": 2,
   "id": "346f4e61-eb40-4d42-8564-cdca2a328826",
   "metadata": {},
   "outputs": [
    {
     "name": "stdout",
     "output_type": "stream",
     "text": [
      "['전처리(22.04.03).xlsx', 'Preprocessed.xlsx', 'result.xlsx']\n"
     ]
    }
   ],
   "source": [
    "# xlsx 확장자 파일 목록 가져오기\n",
    "\n",
    "import os\n",
    "\n",
    "files = []\n",
    "\n",
    "for i in os.listdir():\n",
    "    if i.endswith('.xlsx'):\n",
    "        files.append(i)\n",
    "        \n",
    "print(files)"
   ]
  },
  {
   "cell_type": "code",
   "execution_count": 3,
   "id": "7e9f2b9d-0a9e-4a7e-a34b-c5ce62a30c6d",
   "metadata": {},
   "outputs": [],
   "source": [
    "data = pd.read_excel(files[0]) # 데이터 불러오기\n",
    "features = data.columns.tolist() # 칼럼 이름들 리스트화"
   ]
  },
  {
   "cell_type": "code",
   "execution_count": 4,
   "id": "cb47e270-e8db-4824-a26d-51e44c916ed4",
   "metadata": {},
   "outputs": [],
   "source": [
    "features_to_remove = ['자치구', '동', '안심택배함수'] # x 데이터에 들어가지 않을 칼럼들\n",
    "\n",
    "for i in features_to_remove:\n",
    "    try:\n",
    "        features.remove(i)\n",
    "    except:\n",
    "        print('There is no column named + ' +  i)"
   ]
  },
  {
   "cell_type": "code",
   "execution_count": 5,
   "id": "11cfb155-b924-454a-a628-8447d33f99ed",
   "metadata": {},
   "outputs": [],
   "source": [
    "# x, y 분리하여 DataFrame 객체 생성\n",
    "\n",
    "x = pd.DataFrame()\n",
    "\n",
    "# x DataFrame에 데이터 복사\n",
    "\n",
    "for i in features:\n",
    "    try:\n",
    "        x[i] = ''\n",
    "        x[i] = data[i].astype(float)\n",
    "    except:\n",
    "        print(i)\n",
    "        \n",
    "# y DataFrame에 데이터 복사\n",
    "\n",
    "y = data['안심택배함수'].astype(int)"
   ]
  },
  {
   "cell_type": "code",
   "execution_count": 6,
   "id": "c805ab47-78ef-4984-ae76-89af26b11603",
   "metadata": {},
   "outputs": [],
   "source": [
    "# 성분의 크기에 따른 분산량 왜곡을 막기 위한 표준화 패키지\n",
    "\n",
    "from sklearn.preprocessing import StandardScaler"
   ]
  },
  {
   "cell_type": "code",
   "execution_count": 7,
   "id": "0e9ebf27-890a-4536-abba-4338106b2e58",
   "metadata": {},
   "outputs": [],
   "source": [
    "# StandardScaler 객체를 생성해 표준화 진행 후 DataFrame으로 변환하여 저장\n",
    "\n",
    "x_trans = StandardScaler().fit_transform(x.values)\n",
    "x_trans = pd.DataFrame(x_trans, columns = features)"
   ]
  },
  {
   "cell_type": "code",
   "execution_count": 8,
   "id": "5b8b0918-6d39-4aae-8d3e-b6850df691ff",
   "metadata": {},
   "outputs": [
    {
     "name": "stdout",
     "output_type": "stream",
     "text": [
      " The name of Column : 1인세대 \n",
      " Correlation : 0.24432119243494568\n",
      "\n",
      " The name of Column : 방범용 CCTV(구별) \n",
      " Correlation : 0.18108313594183015\n",
      "\n",
      " The name of Column : 다가구주택 \n",
      " Correlation : 0.23785062712511276\n",
      "\n",
      " The name of Column : 아파트 \n",
      " Correlation : -0.19206281558903143\n",
      "\n",
      " The name of Column : 다세대주택 \n",
      " Correlation : 0.20304688488931716\n",
      "\n",
      " The name of Column : 주차장 수 \n",
      " Correlation : 0.26994525402236\n",
      "\n",
      " The name of Column : 서울 2030 여성 1인가구 수(구별) \n",
      " Correlation : 0.11799819617363591\n",
      "\n",
      " The name of Column : 길단위 상존인구 \n",
      " Correlation : 0.11066956134295294\n",
      "\n",
      " The name of Column : 주거 인구 \n",
      " Correlation : 0.12154248222391602\n",
      "\n",
      "9\n"
     ]
    }
   ],
   "source": [
    "import numpy as np\n",
    "\n",
    "x_part = pd.DataFrame()\n",
    "number = 0\n",
    "\n",
    "for i in x_trans.columns:\n",
    "    if abs(np.corrcoef(x_trans[i], y)[0,1]) > 0.1:\n",
    "        x_part[i] = ''\n",
    "        x_part[i] = x_trans[i]\n",
    "        print(' The name of Column : {} \\n Correlation : {}'.format(i, np.corrcoef(x_trans[i], y)[0,1]))\n",
    "        print()\n",
    "        number += 1\n",
    "print(number)"
   ]
  },
  {
   "cell_type": "code",
   "execution_count": 9,
   "id": "448ad146-9491-4344-b9af-258f188e6119",
   "metadata": {},
   "outputs": [],
   "source": [
    "# 선형 회귀 패키지\n",
    "\n",
    "from sklearn.linear_model import LinearRegression"
   ]
  },
  {
   "cell_type": "code",
   "execution_count": 10,
   "id": "0d6c1ec9-5a97-4148-8e76-3863fc2355f7",
   "metadata": {},
   "outputs": [],
   "source": [
    "linear = LinearRegression() # 객체 생성\n",
    "linear.fit(x_part, y) # 모델 적합\n",
    "error_linear = y - linear.predict(x_part)"
   ]
  },
  {
   "cell_type": "code",
   "execution_count": 11,
   "id": "d6f49f52-d41c-4ff6-9fff-45f2638ef8d0",
   "metadata": {},
   "outputs": [
    {
     "data": {
      "text/html": [
       "<div>\n",
       "<style scoped>\n",
       "    .dataframe tbody tr th:only-of-type {\n",
       "        vertical-align: middle;\n",
       "    }\n",
       "\n",
       "    .dataframe tbody tr th {\n",
       "        vertical-align: top;\n",
       "    }\n",
       "\n",
       "    .dataframe thead th {\n",
       "        text-align: right;\n",
       "    }\n",
       "</style>\n",
       "<table border=\"1\" class=\"dataframe\">\n",
       "  <thead>\n",
       "    <tr style=\"text-align: right;\">\n",
       "      <th></th>\n",
       "      <th>동</th>\n",
       "      <th>오차</th>\n",
       "    </tr>\n",
       "  </thead>\n",
       "  <tbody>\n",
       "    <tr>\n",
       "      <th>0</th>\n",
       "      <td>중곡2동</td>\n",
       "      <td>-1.03008</td>\n",
       "    </tr>\n",
       "    <tr>\n",
       "      <th>1</th>\n",
       "      <td>용신동</td>\n",
       "      <td>-1.188687</td>\n",
       "    </tr>\n",
       "    <tr>\n",
       "      <th>2</th>\n",
       "      <td>신촌동</td>\n",
       "      <td>-1.198404</td>\n",
       "    </tr>\n",
       "    <tr>\n",
       "      <th>3</th>\n",
       "      <td>화곡본동</td>\n",
       "      <td>-1.039649</td>\n",
       "    </tr>\n",
       "    <tr>\n",
       "      <th>4</th>\n",
       "      <td>화곡1동</td>\n",
       "      <td>-1.067991</td>\n",
       "    </tr>\n",
       "    <tr>\n",
       "      <th>5</th>\n",
       "      <td>행운동</td>\n",
       "      <td>-1.278598</td>\n",
       "    </tr>\n",
       "    <tr>\n",
       "      <th>6</th>\n",
       "      <td>낙성대동</td>\n",
       "      <td>-1.013084</td>\n",
       "    </tr>\n",
       "    <tr>\n",
       "      <th>7</th>\n",
       "      <td>신원동</td>\n",
       "      <td>-1.025057</td>\n",
       "    </tr>\n",
       "    <tr>\n",
       "      <th>8</th>\n",
       "      <td>방이2동</td>\n",
       "      <td>-1.033892</td>\n",
       "    </tr>\n",
       "    <tr>\n",
       "      <th>9</th>\n",
       "      <td>잠실본동</td>\n",
       "      <td>-1.013252</td>\n",
       "    </tr>\n",
       "  </tbody>\n",
       "</table>\n",
       "</div>"
      ],
      "text/plain": [
       "      동        오차\n",
       "0  중곡2동  -1.03008\n",
       "1   용신동 -1.188687\n",
       "2   신촌동 -1.198404\n",
       "3  화곡본동 -1.039649\n",
       "4  화곡1동 -1.067991\n",
       "5   행운동 -1.278598\n",
       "6  낙성대동 -1.013084\n",
       "7   신원동 -1.025057\n",
       "8  방이2동 -1.033892\n",
       "9  잠실본동 -1.013252"
      ]
     },
     "execution_count": 11,
     "metadata": {},
     "output_type": "execute_result"
    }
   ],
   "source": [
    "# 에러가 -1 미만일 경우 한 개 이상의 무인 택배함이 더 필요하다는 것을 뜻한다. \n",
    "\n",
    "counter = 0\n",
    "number = 0\n",
    "lin_reg = pd.DataFrame(columns = ['동', '오차'])\n",
    "\n",
    "for i in error_linear:\n",
    "    if i < -1:\n",
    "        lin_reg.at[number, '동'] = data.iloc[counter, 1]\n",
    "        lin_reg.at[number, '오차'] = i\n",
    "        number += 1\n",
    "    counter += 1\n",
    "\n",
    "lin_reg"
   ]
  },
  {
   "cell_type": "code",
   "execution_count": 12,
   "id": "d083a7d8-dc5a-4793-ab3b-17c88e713582",
   "metadata": {},
   "outputs": [],
   "source": [
    "# https://blog.naver.com/PostView.nhn?blogId=ssdyka&logNo=221231456916\n",
    "# 릿지 회귀에 관한 글\n",
    "# 릿지 회귀를 위한 패키지\n",
    "\n",
    "from sklearn.linear_model import Ridge"
   ]
  },
  {
   "cell_type": "code",
   "execution_count": 13,
   "id": "bc18a48f-44e2-43b3-a2ce-dfa8a995bd29",
   "metadata": {},
   "outputs": [],
   "source": [
    "ridge = Ridge(alpha = 0.5) # alpha 값이 의미하는 것도 정확히 이해되지 않고, 값을 바꿔도 결과는 크게 달라지지 않는 것 같다.\n",
    "ridge.fit(x_part, y) # 모델 적합\n",
    "error_ridge = y - ridge.predict(x_part)"
   ]
  },
  {
   "cell_type": "code",
   "execution_count": 14,
   "id": "e7333ca8-b697-48be-a7fa-b524c20df380",
   "metadata": {},
   "outputs": [
    {
     "name": "stdout",
     "output_type": "stream",
     "text": [
      " Value : -1.0294741792027304 \n",
      " Index : 68 \n",
      " Name : 중곡2동\n",
      "\n",
      " Value : -1.1875547137776317 \n",
      " Index : 84 \n",
      " Name : 용신동\n",
      "\n",
      " Value : -1.1968483157803693 \n",
      " Index : 204 \n",
      " Name : 신촌동\n",
      "\n",
      " Value : -1.0405752913418413 \n",
      " Index : 244 \n",
      " Name : 화곡본동\n",
      "\n",
      " Value : -1.0687406244828113 \n",
      " Index : 258 \n",
      " Name : 화곡1동\n",
      "\n",
      " Value : -1.2772193309822604 \n",
      " Index : 321 \n",
      " Name : 행운동\n",
      "\n",
      " Value : -1.01204079595045 \n",
      " Index : 322 \n",
      " Name : 낙성대동\n",
      "\n",
      " Value : -1.0247912233422836 \n",
      " Index : 327 \n",
      " Name : 신원동\n",
      "\n",
      " Value : -1.0330988168858612 \n",
      " Index : 387 \n",
      " Name : 방이2동\n",
      "\n",
      " Value : -1.0129461180593649 \n",
      " Index : 399 \n",
      " Name : 잠실본동\n",
      "\n",
      "The number of big error : 10\n"
     ]
    }
   ],
   "source": [
    "counter = 0\n",
    "number = 0\n",
    "\n",
    "for i in error_ridge:\n",
    "    if i < -1:\n",
    "        print(' Value : {} \\n Index : {} \\n Name : {}'.format(i, counter, data.iloc[counter, 1]))\n",
    "        print()\n",
    "        number += 1\n",
    "    counter += 1\n",
    "print('The number of big error : {}'.format(number))"
   ]
  },
  {
   "cell_type": "code",
   "execution_count": 15,
   "id": "bd7d0463-65c8-4d2c-b845-54db423dc9cf",
   "metadata": {},
   "outputs": [
    {
     "name": "stdout",
     "output_type": "stream",
     "text": [
      "3 : 9, 4 : 5, 5+ : 1\n"
     ]
    }
   ],
   "source": [
    "# 택배함이 5개 이상 설치된 곳은 한 군데 뿐이므로 분류의 정확도를 위해 4개 이상 택배함이 설치된 행정동은 4개 이상으로 통일한다.\n",
    "\n",
    "three = 0\n",
    "four = 0\n",
    "over = 0\n",
    "\n",
    "for i in y:\n",
    "    if i == 3:\n",
    "        three += 1\n",
    "    elif i == 4:\n",
    "        four += 1\n",
    "    elif i > 4:\n",
    "        over += 1\n",
    "\n",
    "print('3 : {}, 4 : {}, 5+ : {}'.format(three, four, over))\n",
    "\n",
    "y_trans = []\n",
    "\n",
    "for i in y:\n",
    "    if i > 4:\n",
    "        y_trans.append(4)\n",
    "    else:\n",
    "        y_trans.append(i)"
   ]
  },
  {
   "cell_type": "code",
   "execution_count": 16,
   "id": "77b96a12-7444-471f-bc9a-dd6554c42618",
   "metadata": {},
   "outputs": [],
   "source": [
    "# 로지스틱 회귀 패키지\n",
    "\n",
    "from sklearn.linear_model import LogisticRegression"
   ]
  },
  {
   "cell_type": "code",
   "execution_count": 17,
   "id": "bc4ff6d2-771f-4a18-b300-95bef458b2fc",
   "metadata": {},
   "outputs": [],
   "source": [
    "logis = LogisticRegression(max_iter = 1000)\n",
    "logis.fit(x_part, y_trans) # 모델 적합\n",
    "error_logis = y_trans - logis.predict(x_part)"
   ]
  },
  {
   "cell_type": "code",
   "execution_count": 18,
   "id": "43adbfc9-9cea-484f-93d3-b38f7fb155bb",
   "metadata": {},
   "outputs": [
    {
     "data": {
      "text/html": [
       "<div>\n",
       "<style scoped>\n",
       "    .dataframe tbody tr th:only-of-type {\n",
       "        vertical-align: middle;\n",
       "    }\n",
       "\n",
       "    .dataframe tbody tr th {\n",
       "        vertical-align: top;\n",
       "    }\n",
       "\n",
       "    .dataframe thead th {\n",
       "        text-align: right;\n",
       "    }\n",
       "</style>\n",
       "<table border=\"1\" class=\"dataframe\">\n",
       "  <thead>\n",
       "    <tr style=\"text-align: right;\">\n",
       "      <th></th>\n",
       "      <th>동</th>\n",
       "      <th>오차</th>\n",
       "    </tr>\n",
       "  </thead>\n",
       "  <tbody>\n",
       "    <tr>\n",
       "      <th>0</th>\n",
       "      <td>군자동</td>\n",
       "      <td>-1</td>\n",
       "    </tr>\n",
       "    <tr>\n",
       "      <th>1</th>\n",
       "      <td>중곡4동</td>\n",
       "      <td>-1</td>\n",
       "    </tr>\n",
       "    <tr>\n",
       "      <th>2</th>\n",
       "      <td>자양1동</td>\n",
       "      <td>-1</td>\n",
       "    </tr>\n",
       "    <tr>\n",
       "      <th>3</th>\n",
       "      <td>용신동</td>\n",
       "      <td>-1</td>\n",
       "    </tr>\n",
       "    <tr>\n",
       "      <th>4</th>\n",
       "      <td>중화2동</td>\n",
       "      <td>-1</td>\n",
       "    </tr>\n",
       "    <tr>\n",
       "      <th>5</th>\n",
       "      <td>수유3동</td>\n",
       "      <td>-1</td>\n",
       "    </tr>\n",
       "    <tr>\n",
       "      <th>6</th>\n",
       "      <td>송천동</td>\n",
       "      <td>-1</td>\n",
       "    </tr>\n",
       "    <tr>\n",
       "      <th>7</th>\n",
       "      <td>화곡1동</td>\n",
       "      <td>-1</td>\n",
       "    </tr>\n",
       "    <tr>\n",
       "      <th>8</th>\n",
       "      <td>대림2동</td>\n",
       "      <td>-1</td>\n",
       "    </tr>\n",
       "    <tr>\n",
       "      <th>9</th>\n",
       "      <td>행운동</td>\n",
       "      <td>-1</td>\n",
       "    </tr>\n",
       "    <tr>\n",
       "      <th>10</th>\n",
       "      <td>신원동</td>\n",
       "      <td>-1</td>\n",
       "    </tr>\n",
       "    <tr>\n",
       "      <th>11</th>\n",
       "      <td>서림동</td>\n",
       "      <td>-1</td>\n",
       "    </tr>\n",
       "    <tr>\n",
       "      <th>12</th>\n",
       "      <td>난곡동</td>\n",
       "      <td>-1</td>\n",
       "    </tr>\n",
       "    <tr>\n",
       "      <th>13</th>\n",
       "      <td>천호2동</td>\n",
       "      <td>-1</td>\n",
       "    </tr>\n",
       "  </tbody>\n",
       "</table>\n",
       "</div>"
      ],
      "text/plain": [
       "       동  오차\n",
       "0    군자동  -1\n",
       "1   중곡4동  -1\n",
       "2   자양1동  -1\n",
       "3    용신동  -1\n",
       "4   중화2동  -1\n",
       "5   수유3동  -1\n",
       "6    송천동  -1\n",
       "7   화곡1동  -1\n",
       "8   대림2동  -1\n",
       "9    행운동  -1\n",
       "10   신원동  -1\n",
       "11   서림동  -1\n",
       "12   난곡동  -1\n",
       "13  천호2동  -1"
      ]
     },
     "execution_count": 18,
     "metadata": {},
     "output_type": "execute_result"
    }
   ],
   "source": [
    "counter = 0\n",
    "number = 0\n",
    "log_reg = pd.DataFrame(columns = ['동', '오차'])\n",
    "\n",
    "for i in error_logis:\n",
    "    if i < 0:\n",
    "        log_reg.at[number, '동'] = data.iloc[counter, 1]\n",
    "        log_reg.at[number, '오차'] = i\n",
    "        number += 1\n",
    "    counter += 1\n",
    "\n",
    "log_reg"
   ]
  },
  {
   "cell_type": "code",
   "execution_count": 19,
   "id": "d14c873a-b82e-47b1-98f0-1d71c2e1063e",
   "metadata": {},
   "outputs": [],
   "source": [
    "# 서포트 벡터 머신 패키지\n",
    "\n",
    "from sklearn.svm import SVC"
   ]
  },
  {
   "cell_type": "code",
   "execution_count": 20,
   "id": "fcf6ea24-22f3-443f-8811-4295f4115c05",
   "metadata": {},
   "outputs": [],
   "source": [
    "svm_lin = SVC(kernel = 'linear') # 선형 커널 객체 생성\n",
    "svm_lin.fit(x_part, y_trans) # 모델 적합\n",
    "error_svm_lin = y_trans - svm_lin.predict(x_part)"
   ]
  },
  {
   "cell_type": "code",
   "execution_count": 21,
   "id": "f666a022-917d-4f2d-bef9-a198c4792509",
   "metadata": {},
   "outputs": [
    {
     "name": "stdout",
     "output_type": "stream",
     "text": [
      "The number of big error : 0\n"
     ]
    }
   ],
   "source": [
    "counter = 0\n",
    "number = 0\n",
    "\n",
    "for i in error_svm_lin:\n",
    "    if i < 0:\n",
    "        print(' Name : {} \\n Error : {}'.format(data.iloc[counter, 1], i))\n",
    "        print()\n",
    "        number += 1\n",
    "    counter += 1\n",
    "    \n",
    "print('The number of big error : {}'.format(number))"
   ]
  },
  {
   "cell_type": "code",
   "execution_count": 22,
   "id": "dc1a0fb3-8891-4dc0-82b2-917fc8031bf9",
   "metadata": {},
   "outputs": [],
   "source": [
    "svm_rbf = SVC(kernel = 'rbf') # Residual Basis Function 커널 객체 생성\n",
    "svm_rbf.fit(x_part, y_trans) # 모델 적합\n",
    "error_svm_rbf = y_trans - svm_rbf.predict(x_part)"
   ]
  },
  {
   "cell_type": "code",
   "execution_count": 23,
   "id": "254e721f-31ce-4df5-a5cf-dd9da71743ae",
   "metadata": {},
   "outputs": [
    {
     "name": "stdout",
     "output_type": "stream",
     "text": [
      "The number of big error : 0\n"
     ]
    }
   ],
   "source": [
    "counter = 0\n",
    "number = 0\n",
    "\n",
    "for i in error_svm_rbf:\n",
    "    if i < 0:\n",
    "        print(' Name : {} \\n Error : {}'.format(data.iloc[counter, 1], i))\n",
    "        print()\n",
    "        number += 1\n",
    "    counter += 1\n",
    "    \n",
    "print('The number of big error : {}'.format(number))"
   ]
  },
  {
   "cell_type": "code",
   "execution_count": 24,
   "id": "244aabd0-8872-4f04-8a9d-023e49285d2e",
   "metadata": {},
   "outputs": [],
   "source": [
    "# 랜덤 포레스트 패키지\n",
    "\n",
    "from sklearn.ensemble import RandomForestClassifier"
   ]
  },
  {
   "cell_type": "code",
   "execution_count": 25,
   "id": "6afe420a-a170-4b71-b91f-6d55c8cda54f",
   "metadata": {},
   "outputs": [],
   "source": [
    "clf = RandomForestClassifier() # 매개 변수들에 변화를 줄 수 있다. \n",
    "clf.fit(x_trans, y_trans) # 모델 적합\n",
    "error_rf = y_trans - clf.predict(x_trans)"
   ]
  },
  {
   "cell_type": "code",
   "execution_count": 26,
   "id": "dc717eb8-36b5-4da8-b0c1-d970b635e38e",
   "metadata": {},
   "outputs": [
    {
     "name": "stdout",
     "output_type": "stream",
     "text": [
      "The number of big error : 0\n"
     ]
    }
   ],
   "source": [
    "counter = 0\n",
    "number = 0\n",
    "\n",
    "for i in error_rf:\n",
    "    if i < 0:\n",
    "        print(' Name : {} \\n Error : {}'.format(data.iloc[counter, 1], i))\n",
    "        print()\n",
    "        number += 1\n",
    "    counter += 1\n",
    "    \n",
    "print('The number of big error : {}'.format(number))"
   ]
  },
  {
   "cell_type": "code",
   "execution_count": 27,
   "id": "7b80946b-523b-4379-ac82-4fe9386b875a",
   "metadata": {},
   "outputs": [
    {
     "data": {
      "text/html": [
       "<div>\n",
       "<style scoped>\n",
       "    .dataframe tbody tr th:only-of-type {\n",
       "        vertical-align: middle;\n",
       "    }\n",
       "\n",
       "    .dataframe tbody tr th {\n",
       "        vertical-align: top;\n",
       "    }\n",
       "\n",
       "    .dataframe thead th {\n",
       "        text-align: right;\n",
       "    }\n",
       "</style>\n",
       "<table border=\"1\" class=\"dataframe\">\n",
       "  <thead>\n",
       "    <tr style=\"text-align: right;\">\n",
       "      <th></th>\n",
       "      <th>동</th>\n",
       "      <th>오차_x</th>\n",
       "      <th>오차_y</th>\n",
       "    </tr>\n",
       "  </thead>\n",
       "  <tbody>\n",
       "    <tr>\n",
       "      <th>0</th>\n",
       "      <td>용신동</td>\n",
       "      <td>-1.188687</td>\n",
       "      <td>-1</td>\n",
       "    </tr>\n",
       "    <tr>\n",
       "      <th>1</th>\n",
       "      <td>화곡1동</td>\n",
       "      <td>-1.067991</td>\n",
       "      <td>-1</td>\n",
       "    </tr>\n",
       "    <tr>\n",
       "      <th>2</th>\n",
       "      <td>행운동</td>\n",
       "      <td>-1.278598</td>\n",
       "      <td>-1</td>\n",
       "    </tr>\n",
       "    <tr>\n",
       "      <th>3</th>\n",
       "      <td>신원동</td>\n",
       "      <td>-1.025057</td>\n",
       "      <td>-1</td>\n",
       "    </tr>\n",
       "  </tbody>\n",
       "</table>\n",
       "</div>"
      ],
      "text/plain": [
       "      동      오차_x 오차_y\n",
       "0   용신동 -1.188687   -1\n",
       "1  화곡1동 -1.067991   -1\n",
       "2   행운동 -1.278598   -1\n",
       "3   신원동 -1.025057   -1"
      ]
     },
     "execution_count": 27,
     "metadata": {},
     "output_type": "execute_result"
    }
   ],
   "source": [
    "pd.merge(lin_reg, log_reg, how = 'inner', on = '동')"
   ]
  },
  {
   "cell_type": "code",
   "execution_count": null,
   "id": "25fdf7c4-9c28-46f6-9362-7f5fdd580037",
   "metadata": {},
   "outputs": [],
   "source": []
  }
 ],
 "metadata": {
  "kernelspec": {
   "display_name": "Python 3",
   "language": "python",
   "name": "python3"
  },
  "language_info": {
   "codemirror_mode": {
    "name": "ipython",
    "version": 3
   },
   "file_extension": ".py",
   "mimetype": "text/x-python",
   "name": "python",
   "nbconvert_exporter": "python",
   "pygments_lexer": "ipython3",
   "version": "3.8.8"
  }
 },
 "nbformat": 4,
 "nbformat_minor": 5
}
