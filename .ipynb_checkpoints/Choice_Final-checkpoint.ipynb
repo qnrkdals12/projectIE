{
 "cells": [
  {
   "cell_type": "code",
   "execution_count": 1,
   "id": "d6456184-6a48-40aa-a3bd-65adcb45fd93",
   "metadata": {},
   "outputs": [
    {
     "name": "stdout",
     "output_type": "stream",
     "text": [
      "['전처리(22.04.03).xlsx', '전처리(22.04.09).xlsx', 'Preprocessed.xlsx', 'result.xlsx']\n"
     ]
    }
   ],
   "source": [
    "# xlsx 확장자 파일 목록 가져오기\n",
    "\n",
    "import os\n",
    "\n",
    "files = []\n",
    "\n",
    "for i in os.listdir():\n",
    "    if i.endswith('.xlsx'):\n",
    "        files.append(i)\n",
    "        \n",
    "print(files)"
   ]
  },
  {
   "cell_type": "code",
   "execution_count": 2,
   "id": "a7a36db0-5d8f-4129-be4a-48d49fd882e5",
   "metadata": {},
   "outputs": [],
   "source": [
    "import pandas as pd\n",
    "\n",
    "data = pd.read_excel(files[1]) # 데이터 불러오기\n",
    "features = data.columns.tolist() # 칼럼 이름들 리스트화\n",
    "\n",
    "features_to_remove = ['자치구', '동', '안심택배함수'] # x 데이터에 들어가지 않을 칼럼들\n",
    "\n",
    "for i in features_to_remove:\n",
    "    try:\n",
    "        features.remove(i)\n",
    "    except:\n",
    "        print('There is no column named + ' +  i)"
   ]
  },
  {
   "cell_type": "code",
   "execution_count": 3,
   "id": "fac6626d-ea91-4501-acbf-b584e09ba295",
   "metadata": {},
   "outputs": [],
   "source": [
    "# x, y 분리하여 DataFrame 객체 생성\n",
    "\n",
    "x = pd.DataFrame()\n",
    "\n",
    "# x DataFrame에 데이터 복사\n",
    "\n",
    "for i in features:\n",
    "    try:\n",
    "        x[i] = ''\n",
    "        x[i] = data[i].astype(float)\n",
    "    except:\n",
    "        print(i)\n",
    "        \n",
    "# y DataFrame에 데이터 복사\n",
    "\n",
    "y = data['안심택배함수'].astype(int)"
   ]
  },
  {
   "cell_type": "code",
   "execution_count": 4,
   "id": "5c96be81-61fc-4f17-9516-9e1cec755b72",
   "metadata": {},
   "outputs": [],
   "source": [
    "# 성분의 크기에 따른 분산량 왜곡을 막기 위한 표준화 패키지\n",
    "\n",
    "from sklearn.preprocessing import StandardScaler"
   ]
  },
  {
   "cell_type": "code",
   "execution_count": 5,
   "id": "9db6baaa-2f62-4c93-be09-90d32c55da20",
   "metadata": {},
   "outputs": [],
   "source": [
    "# StandardScaler 객체를 생성해 표준화 진행 후 DataFrame으로 변환하여 저장\n",
    "\n",
    "x_trans = StandardScaler().fit_transform(x.values)\n",
    "x_trans = pd.DataFrame(x_trans, columns = features)"
   ]
  },
  {
   "cell_type": "code",
   "execution_count": 6,
   "id": "590ff41b-3a58-4fbc-a07b-41dab3de3b18",
   "metadata": {},
   "outputs": [
    {
     "name": "stdout",
     "output_type": "stream",
     "text": [
      " The name of Column : 1인세대 \n",
      " Correlation : 0.24432119243494568\n",
      "\n",
      " The name of Column : 서울 2030 여성 1인가구 수 \n",
      " Correlation : 0.23585395345760884\n",
      "\n",
      " The name of Column : 방범용 CCTV(구별) \n",
      " Correlation : 0.18108313594183015\n",
      "\n",
      " The name of Column : 다가구주택 \n",
      " Correlation : 0.23785062712511276\n",
      "\n",
      " The name of Column : 아파트 \n",
      " Correlation : -0.19206281558903143\n",
      "\n",
      " The name of Column : 다세대주택 \n",
      " Correlation : 0.20304688488931716\n",
      "\n",
      " The name of Column : 주차장 수 \n",
      " Correlation : 0.26994525402236\n",
      "\n",
      " The name of Column : 길단위 상존인구 \n",
      " Correlation : 0.11066956134295294\n",
      "\n",
      " The name of Column : 주거 인구 \n",
      " Correlation : 0.12154248222391602\n",
      "\n",
      "The number of factors that have high correlation : 9\n"
     ]
    }
   ],
   "source": [
    "import numpy as np\n",
    "\n",
    "x_part = pd.DataFrame()\n",
    "number = 0\n",
    "\n",
    "for i in x_trans.columns:\n",
    "    if abs(np.corrcoef(x_trans[i], y)[0,1]) > 0.1:\n",
    "        x_part[i] = ''\n",
    "        x_part[i] = x_trans[i]\n",
    "        print(' The name of Column : {} \\n Correlation : {}'.format(i, np.corrcoef(x_trans[i], y)[0,1]))\n",
    "        print()\n",
    "        number += 1\n",
    "print('The number of factors that have high correlation : {}'.format(number))"
   ]
  },
  {
   "cell_type": "markdown",
   "id": "67a6efb9-ffe8-427f-b47a-dcdac900aeab",
   "metadata": {},
   "source": [
    "### 상관 계수의 절대값이 0.1 초과인 변수들로만 분석 (Part)"
   ]
  },
  {
   "cell_type": "code",
   "execution_count": 7,
   "id": "484ddd5f-eb6b-4e53-a75b-2a54147112a1",
   "metadata": {},
   "outputs": [],
   "source": [
    "# 선형 회귀 패키지\n",
    "\n",
    "from sklearn.linear_model import LinearRegression"
   ]
  },
  {
   "cell_type": "code",
   "execution_count": 8,
   "id": "62fa8ab6-226c-4aa8-874e-d7b00eb5eed7",
   "metadata": {},
   "outputs": [],
   "source": [
    "linear = LinearRegression() # 객체 생성\n",
    "linear.fit(x_part, y) # 모델 적합\n",
    "error_linear = y - linear.predict(x_part)"
   ]
  },
  {
   "cell_type": "code",
   "execution_count": 14,
   "id": "b258d941-56a9-4da2-ba0c-1eb92f87de3c",
   "metadata": {},
   "outputs": [
    {
     "data": {
      "text/html": [
       "<div>\n",
       "<style scoped>\n",
       "    .dataframe tbody tr th:only-of-type {\n",
       "        vertical-align: middle;\n",
       "    }\n",
       "\n",
       "    .dataframe tbody tr th {\n",
       "        vertical-align: top;\n",
       "    }\n",
       "\n",
       "    .dataframe thead th {\n",
       "        text-align: right;\n",
       "    }\n",
       "</style>\n",
       "<table border=\"1\" class=\"dataframe\">\n",
       "  <thead>\n",
       "    <tr style=\"text-align: right;\">\n",
       "      <th></th>\n",
       "      <th>동</th>\n",
       "      <th>오차_part</th>\n",
       "      <th>구</th>\n",
       "    </tr>\n",
       "  </thead>\n",
       "  <tbody>\n",
       "    <tr>\n",
       "      <th>0</th>\n",
       "      <td>군자동</td>\n",
       "      <td>-1.028131</td>\n",
       "      <td>광진구</td>\n",
       "    </tr>\n",
       "    <tr>\n",
       "      <th>1</th>\n",
       "      <td>중곡2동</td>\n",
       "      <td>-1.056503</td>\n",
       "      <td>광진구</td>\n",
       "    </tr>\n",
       "    <tr>\n",
       "      <th>2</th>\n",
       "      <td>용신동</td>\n",
       "      <td>-1.057446</td>\n",
       "      <td>동대문구</td>\n",
       "    </tr>\n",
       "    <tr>\n",
       "      <th>3</th>\n",
       "      <td>신촌동</td>\n",
       "      <td>-1.448973</td>\n",
       "      <td>서대문구</td>\n",
       "    </tr>\n",
       "    <tr>\n",
       "      <th>4</th>\n",
       "      <td>가양1동</td>\n",
       "      <td>-1.139688</td>\n",
       "      <td>강서구</td>\n",
       "    </tr>\n",
       "    <tr>\n",
       "      <th>5</th>\n",
       "      <td>화곡1동</td>\n",
       "      <td>-1.024133</td>\n",
       "      <td>강서구</td>\n",
       "    </tr>\n",
       "    <tr>\n",
       "      <th>6</th>\n",
       "      <td>행운동</td>\n",
       "      <td>-1.388651</td>\n",
       "      <td>관악구</td>\n",
       "    </tr>\n",
       "    <tr>\n",
       "      <th>7</th>\n",
       "      <td>낙성대동</td>\n",
       "      <td>-1.031429</td>\n",
       "      <td>관악구</td>\n",
       "    </tr>\n",
       "    <tr>\n",
       "      <th>8</th>\n",
       "      <td>신원동</td>\n",
       "      <td>-1.013439</td>\n",
       "      <td>관악구</td>\n",
       "    </tr>\n",
       "    <tr>\n",
       "      <th>9</th>\n",
       "      <td>잠실본동</td>\n",
       "      <td>-1.057197</td>\n",
       "      <td>송파구</td>\n",
       "    </tr>\n",
       "  </tbody>\n",
       "</table>\n",
       "</div>"
      ],
      "text/plain": [
       "      동   오차_part     구\n",
       "0   군자동 -1.028131   광진구\n",
       "1  중곡2동 -1.056503   광진구\n",
       "2   용신동 -1.057446  동대문구\n",
       "3   신촌동 -1.448973  서대문구\n",
       "4  가양1동 -1.139688   강서구\n",
       "5  화곡1동 -1.024133   강서구\n",
       "6   행운동 -1.388651   관악구\n",
       "7  낙성대동 -1.031429   관악구\n",
       "8   신원동 -1.013439   관악구\n",
       "9  잠실본동 -1.057197   송파구"
      ]
     },
     "execution_count": 14,
     "metadata": {},
     "output_type": "execute_result"
    }
   ],
   "source": [
    "# 오차가 -1 미만일 경우 약 한 개 이상의 무인 택배함이 더 필요하다는 것을 뜻한다. \n",
    "\n",
    "counter = 0\n",
    "number = 0\n",
    "\n",
    "lin_reg_part = pd.DataFrame(columns = ['동', '오차_part'])\n",
    "\n",
    "for i in error_linear:\n",
    "    if i < -1:\n",
    "        lin_reg_part.at[number, '동'] = data.iloc[counter, 1]\n",
    "        lin_reg_part.at[number, '오차_part'] = i\n",
    "        number += 1\n",
    "    counter += 1\n",
    "\n",
    "lin_reg_part"
   ]
  },
  {
   "cell_type": "markdown",
   "id": "2d95d095-4610-48a1-9b57-0b3fa0483fca",
   "metadata": {},
   "source": [
    "### 전체 데이터를 활용하여 PCA를 먼저 진행 후 분석"
   ]
  },
  {
   "cell_type": "code",
   "execution_count": 10,
   "id": "1a5e88c0-8309-4e03-ba1f-e2f642f13b6b",
   "metadata": {},
   "outputs": [],
   "source": [
    "# 선형 차원 축소 중 주성분 분석 (Principal Component Analysis) 패키지\n",
    "\n",
    "from sklearn.decomposition import PCA"
   ]
  },
  {
   "cell_type": "code",
   "execution_count": 11,
   "id": "a0bebd45-c97b-4377-bd57-c509a8040905",
   "metadata": {},
   "outputs": [
    {
     "name": "stdout",
     "output_type": "stream",
     "text": [
      "The number of Principal components : 10 \n",
      " Explained Variance Ratios : [0.25595151 0.13946289 0.11458294 0.09922999 0.07267361 0.05324653\n",
      " 0.04010445 0.0385948  0.0333961  0.02934937] \n",
      " The Sum of Explained Variance Ratios : 0.8765921812179327\n",
      "\n",
      "The number of Principal components : 11 \n",
      " Explained Variance Ratios : [0.25595151 0.13946289 0.11458294 0.09922999 0.07267361 0.05324653\n",
      " 0.04010445 0.0385948  0.0333961  0.02934937 0.02726393] \n",
      " The Sum of Explained Variance Ratios : 0.9038561161823587\n",
      "\n",
      "The number of Principal components : 12 \n",
      " Explained Variance Ratios : [0.25595151 0.13946289 0.11458294 0.09922999 0.07267361 0.05324653\n",
      " 0.04010445 0.0385948  0.0333961  0.02934937 0.02726393 0.02428493] \n",
      " The Sum of Explained Variance Ratios : 0.9281410509061345\n",
      "\n",
      "The number of Principal components : 13 \n",
      " Explained Variance Ratios : [0.25595151 0.13946289 0.11458294 0.09922999 0.07267361 0.05324653\n",
      " 0.04010445 0.0385948  0.0333961  0.02934937 0.02726393 0.02428493\n",
      " 0.02034812] \n",
      " The Sum of Explained Variance Ratios : 0.9484891746292397\n",
      "\n",
      "The number of Principal components : 14 \n",
      " Explained Variance Ratios : [0.25595151 0.13946289 0.11458294 0.09922999 0.07267361 0.05324653\n",
      " 0.04010445 0.0385948  0.0333961  0.02934937 0.02726393 0.02428493\n",
      " 0.02034812 0.01565935] \n",
      " The Sum of Explained Variance Ratios : 0.9641485288258732\n",
      "\n"
     ]
    }
   ],
   "source": [
    "# 주성분 분석을 통해 적절한 수준의 설명력을 가진 주성분 수 선정\n",
    "\n",
    "for i in range(10,15):\n",
    "    pca = PCA(n_components = i)\n",
    "    pca.fit_transform(x_trans)\n",
    "    print('The number of Principal components : {} \\n Explained Variance Ratios : {} \\n The Sum of Explained Variance Ratios : {}'\n",
    "      .format(i, pca.explained_variance_ratio_, sum(pca.explained_variance_ratio_)))\n",
    "    print()"
   ]
  },
  {
   "cell_type": "code",
   "execution_count": 12,
   "id": "1bfefb6e-4d40-4db7-b5db-5522f51c608f",
   "metadata": {},
   "outputs": [
    {
     "name": "stdout",
     "output_type": "stream",
     "text": [
      " The number of Principal components : 12 \n",
      " Explained Variance Ratios : [0.25595151 0.13946289 0.11458294 0.09922999 0.07267361 0.05324653\n",
      " 0.04010445 0.0385948  0.0333961  0.02934937 0.02726393 0.02428493] \n",
      " The Sum of Explained Variance Ratios : 0.9281410509061345\n"
     ]
    }
   ],
   "source": [
    "# 주성분 12개가 설명력 0.9를 처음 초과하므로 11개를 선택했다.\n",
    "# 선택할 설명력 수준은 추후 논의\n",
    "\n",
    "n = 12\n",
    "pca = PCA(n_components = n)\n",
    "pca_values = pca.fit_transform(x_trans)\n",
    "\n",
    "print(' The number of Principal components : {} \\n Explained Variance Ratios : {} \\n The Sum of Explained Variance Ratios : {}'\n",
    "  .format(n, pca.explained_variance_ratio_, sum(pca.explained_variance_ratio_)))"
   ]
  },
  {
   "cell_type": "code",
   "execution_count": 13,
   "id": "d19da35b-95a6-48bb-b049-420879b5fcb4",
   "metadata": {},
   "outputs": [],
   "source": [
    "names = []\n",
    "ch = 'PC '\n",
    "for i in range(1, n + 1):\n",
    "    names.append(ch + str(i))\n",
    "    \n",
    "principal_df = pd.DataFrame(data = pca_values, columns = names)"
   ]
  },
  {
   "cell_type": "code",
   "execution_count": 14,
   "id": "6c8d9d12-11ee-4634-8047-69ed23196bc9",
   "metadata": {},
   "outputs": [],
   "source": [
    "linear = LinearRegression() # 객체 생성\n",
    "linear.fit(principal_df, y) # 모델 적합\n",
    "error_linear = y - linear.predict(principal_df)"
   ]
  },
  {
   "cell_type": "code",
   "execution_count": 15,
   "id": "70a57f3d-8054-44a5-be97-9f8d487c7f5a",
   "metadata": {},
   "outputs": [
    {
     "data": {
      "text/html": [
       "<div>\n",
       "<style scoped>\n",
       "    .dataframe tbody tr th:only-of-type {\n",
       "        vertical-align: middle;\n",
       "    }\n",
       "\n",
       "    .dataframe tbody tr th {\n",
       "        vertical-align: top;\n",
       "    }\n",
       "\n",
       "    .dataframe thead th {\n",
       "        text-align: right;\n",
       "    }\n",
       "</style>\n",
       "<table border=\"1\" class=\"dataframe\">\n",
       "  <thead>\n",
       "    <tr style=\"text-align: right;\">\n",
       "      <th></th>\n",
       "      <th>동</th>\n",
       "      <th>오차_full</th>\n",
       "    </tr>\n",
       "  </thead>\n",
       "  <tbody>\n",
       "    <tr>\n",
       "      <th>0</th>\n",
       "      <td>군자동</td>\n",
       "      <td>-1.016802</td>\n",
       "    </tr>\n",
       "    <tr>\n",
       "      <th>1</th>\n",
       "      <td>용신동</td>\n",
       "      <td>-1.096107</td>\n",
       "    </tr>\n",
       "    <tr>\n",
       "      <th>2</th>\n",
       "      <td>수유3동</td>\n",
       "      <td>-1.114767</td>\n",
       "    </tr>\n",
       "    <tr>\n",
       "      <th>3</th>\n",
       "      <td>신촌동</td>\n",
       "      <td>-1.256772</td>\n",
       "    </tr>\n",
       "    <tr>\n",
       "      <th>4</th>\n",
       "      <td>화곡본동</td>\n",
       "      <td>-1.093569</td>\n",
       "    </tr>\n",
       "    <tr>\n",
       "      <th>5</th>\n",
       "      <td>가양1동</td>\n",
       "      <td>-1.059122</td>\n",
       "    </tr>\n",
       "    <tr>\n",
       "      <th>6</th>\n",
       "      <td>화곡1동</td>\n",
       "      <td>-1.095189</td>\n",
       "    </tr>\n",
       "    <tr>\n",
       "      <th>7</th>\n",
       "      <td>상도4동</td>\n",
       "      <td>-1.033364</td>\n",
       "    </tr>\n",
       "    <tr>\n",
       "      <th>8</th>\n",
       "      <td>행운동</td>\n",
       "      <td>-1.268307</td>\n",
       "    </tr>\n",
       "    <tr>\n",
       "      <th>9</th>\n",
       "      <td>낙성대동</td>\n",
       "      <td>-1.008465</td>\n",
       "    </tr>\n",
       "    <tr>\n",
       "      <th>10</th>\n",
       "      <td>신원동</td>\n",
       "      <td>-1.061842</td>\n",
       "    </tr>\n",
       "    <tr>\n",
       "      <th>11</th>\n",
       "      <td>방이2동</td>\n",
       "      <td>-1.021399</td>\n",
       "    </tr>\n",
       "    <tr>\n",
       "      <th>12</th>\n",
       "      <td>잠실본동</td>\n",
       "      <td>-1.089014</td>\n",
       "    </tr>\n",
       "  </tbody>\n",
       "</table>\n",
       "</div>"
      ],
      "text/plain": [
       "       동   오차_full\n",
       "0    군자동 -1.016802\n",
       "1    용신동 -1.096107\n",
       "2   수유3동 -1.114767\n",
       "3    신촌동 -1.256772\n",
       "4   화곡본동 -1.093569\n",
       "5   가양1동 -1.059122\n",
       "6   화곡1동 -1.095189\n",
       "7   상도4동 -1.033364\n",
       "8    행운동 -1.268307\n",
       "9   낙성대동 -1.008465\n",
       "10   신원동 -1.061842\n",
       "11  방이2동 -1.021399\n",
       "12  잠실본동 -1.089014"
      ]
     },
     "execution_count": 15,
     "metadata": {},
     "output_type": "execute_result"
    }
   ],
   "source": [
    "# 오차가 -1 미만일 경우 약 한 개 이상의 무인 택배함이 더 필요하다는 것을 뜻한다. \n",
    "\n",
    "counter = 0\n",
    "number = 0\n",
    "\n",
    "lin_reg_full = pd.DataFrame(columns = ['동', '오차_full'])\n",
    "\n",
    "for i in error_linear:\n",
    "    if i < -1:\n",
    "        lin_reg_full.at[number, '동'] = data.iloc[counter, 1]\n",
    "        lin_reg_full.at[number, '오차_full'] = i\n",
    "        number += 1\n",
    "    counter += 1\n",
    "    \n",
    "lin_reg_full"
   ]
  },
  {
   "cell_type": "code",
   "execution_count": 16,
   "id": "83480b19-afed-4a1c-81a5-149a41ef9d86",
   "metadata": {},
   "outputs": [],
   "source": [
    "union = pd.merge(lin_reg_part, lin_reg_full, on = '동', how = 'outer')"
   ]
  },
  {
   "cell_type": "code",
   "execution_count": 17,
   "id": "aaa0f4de-02cc-4878-bbdc-fd2a214d756d",
   "metadata": {},
   "outputs": [],
   "source": [
    "union.to_csv('Final_result.csv', encoding = 'cp949')"
   ]
  },
  {
   "cell_type": "code",
   "execution_count": null,
   "id": "aa5e75f1-67de-427a-8b35-3ef264b360b3",
   "metadata": {},
   "outputs": [],
   "source": []
  }
 ],
 "metadata": {
  "kernelspec": {
   "display_name": "Python 3",
   "language": "python",
   "name": "python3"
  },
  "language_info": {
   "codemirror_mode": {
    "name": "ipython",
    "version": 3
   },
   "file_extension": ".py",
   "mimetype": "text/x-python",
   "name": "python",
   "nbconvert_exporter": "python",
   "pygments_lexer": "ipython3",
   "version": "3.8.8"
  }
 },
 "nbformat": 4,
 "nbformat_minor": 5
}
