{
 "cells": [
  {
   "cell_type": "code",
   "execution_count": 1,
   "id": "7fb37a79-edfd-4646-bd5a-54c1c4a76ded",
   "metadata": {},
   "outputs": [],
   "source": [
    "import folium\n",
    "import pandas as pd\n",
    "from folium import plugins"
   ]
  },
  {
   "cell_type": "code",
   "execution_count": 2,
   "id": "211102de-041d-44b2-b0e3-4a1703b42a19",
   "metadata": {},
   "outputs": [],
   "source": [
    "CENTER = [37.5648406, 126.9773030]"
   ]
  },
  {
   "cell_type": "code",
   "execution_count": 3,
   "id": "4f06ed3a-883b-4efa-9f69-5fbc76a1bcb9",
   "metadata": {},
   "outputs": [],
   "source": [
    "m = folium.Map(location=CENTER, zoom_start=13)"
   ]
  },
  {
   "cell_type": "code",
   "execution_count": 4,
   "id": "120f2315-bf38-4435-9bcb-44ddc60b4484",
   "metadata": {},
   "outputs": [],
   "source": [
    "publics = pd.read_excel('용신동.xlsx').iloc[:,:3]\n",
    "blocks = pd.read_excel('통합 문서1.xlsx')"
   ]
  },
  {
   "cell_type": "code",
   "execution_count": 5,
   "id": "436e863b-bf91-418e-bf7b-e0faebe7e86b",
   "metadata": {},
   "outputs": [],
   "source": [
    "dongs = ['행운동', '화곡1동', '잠실본동']"
   ]
  },
  {
   "cell_type": "code",
   "execution_count": 6,
   "id": "a7f4ead5-e585-4085-96f3-8da148598d94",
   "metadata": {},
   "outputs": [],
   "source": [
    "my_publics = []\n",
    "my_blocks = []\n",
    "\n",
    "for i in dongs:\n",
    "    public = pd.read_excel(i + '.xlsx')\n",
    "    my_publics.append(public)\n",
    "    my_blocks.append(block)"
   ]
  },
  {
   "cell_type": "code",
   "execution_count": 7,
   "id": "1d2e1976-50a5-41b7-a4c4-5e5ca5f4d93b",
   "metadata": {},
   "outputs": [],
   "source": [
    "for public_index, public in enumerate(my_publics):\n",
    "    for row_index, row in enumerate(public.itertuples()):\n",
    "        folium.Marker([float(public.loc[row_index, '위도']), float(public.loc[row_index, '경도'])], tooltip='<b>{}</b>'.format(public.loc[row_index, '이름'])).add_to(m)"
   ]
  },
  {
   "cell_type": "code",
   "execution_count": 9,
   "id": "d0a23d0b-42ce-4137-9cf5-e43cfc0ec39a",
   "metadata": {},
   "outputs": [],
   "source": [
    "for row_index, row in enumerate(publics.itertuples()):\n",
    "    publics.iloc[row_index, -1] = row[-1].replace('(', '').replace(')', '').split(', ')\n",
    "    publics.iloc[row_index, -1] = [float(publics.iloc[row_index, -1][0]), float(publics.iloc[row_index, -1][1])]"
   ]
  },
  {
   "cell_type": "code",
   "execution_count": 10,
   "id": "24978c3e-c9e9-48a0-afad-f8b8319a0fe8",
   "metadata": {},
   "outputs": [],
   "source": [
    "location_data = blocks[['위도', '경도', '택배 착지량']].values[:len(blocks)].tolist()"
   ]
  },
  {
   "cell_type": "code",
   "execution_count": 11,
   "id": "a746b9ba-20a9-467c-853d-d5411b51e025",
   "metadata": {},
   "outputs": [
    {
     "data": {
      "text/plain": [
       "<folium.plugins.heat_map.HeatMap at 0x7f920adad730>"
      ]
     },
     "execution_count": 11,
     "metadata": {},
     "output_type": "execute_result"
    }
   ],
   "source": [
    "plugins.HeatMap(location_data).add_to(m)"
   ]
  },
  {
   "cell_type": "code",
   "execution_count": 12,
   "id": "d88dbded-e624-4cc1-8420-4f4e5140e26e",
   "metadata": {},
   "outputs": [],
   "source": [
    "for index, value in enumerate(publics.itertuples()):\n",
    "    folium.Marker(value[-1], tooltip='<b>{}</b>'.format(value[1])).add_to(m)"
   ]
  },
  {
   "cell_type": "code",
   "execution_count": 13,
   "id": "762b7408-b3ed-4694-aed1-3b9e202550f9",
   "metadata": {
    "tags": []
   },
   "outputs": [],
   "source": [
    "m.save('시각화.html')"
   ]
  },
  {
   "cell_type": "code",
   "execution_count": null,
   "id": "33e92113-f9e9-481f-9a7e-aafb5cdfb9e8",
   "metadata": {},
   "outputs": [],
   "source": []
  }
 ],
 "metadata": {
  "kernelspec": {
   "display_name": "Python 3",
   "language": "python",
   "name": "python3"
  },
  "language_info": {
   "codemirror_mode": {
    "name": "ipython",
    "version": 3
   },
   "file_extension": ".py",
   "mimetype": "text/x-python",
   "name": "python",
   "nbconvert_exporter": "python",
   "pygments_lexer": "ipython3",
   "version": "3.8.8"
  }
 },
 "nbformat": 4,
 "nbformat_minor": 5
}
