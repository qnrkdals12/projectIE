{
 "cells": [
  {
   "cell_type": "code",
   "execution_count": 1,
   "id": "4aa1cf11-35ef-40bb-a5f1-c4089e6a5327",
   "metadata": {},
   "outputs": [],
   "source": [
    "# https://www.researchgate.net/publication/313795371_Optimization_of_P_Median_Problem_in_Python_Using_PuLP_Package\n",
    "\n",
    "from pulp import *\n",
    "import pandas as pd\n",
    "import numpy as np\n",
    "import os\n",
    "from tqdm import tqdm"
   ]
  },
  {
   "cell_type": "code",
   "execution_count": 2,
   "id": "81ea2eb3-e549-405d-ac95-11960aeda588",
   "metadata": {},
   "outputs": [
    {
     "data": {
      "text/plain": [
       "['좌표_최종_용신동.xlsx',\n",
       " 'Distance_Matrix.xlsx',\n",
       " '용신동 공공시설.xlsx',\n",
       " 'Test_Distance_Matrix.xlsx']"
      ]
     },
     "execution_count": 2,
     "metadata": {},
     "output_type": "execute_result"
    }
   ],
   "source": [
    "# 데이터 가져오기\n",
    "\n",
    "files = []\n",
    "\n",
    "for i in os.listdir():\n",
    "    if i.endswith('.xlsx'):\n",
    "        files.append(i)\n",
    "        \n",
    "files"
   ]
  },
  {
   "cell_type": "code",
   "execution_count": 3,
   "id": "014ed730-93f6-4492-ab48-c36b2af8bce9",
   "metadata": {},
   "outputs": [],
   "source": [
    "d = pd.read_excel(files[1]).iloc[:, 1:8] # distance matrix, 가장 앞에 필요없는 index 칼럼 제거\n",
    "w = pd.read_excel(files[0]).iloc[:, 0] # 수요 지점 i의 가중치 (택배 착지량)"
   ]
  },
  {
   "cell_type": "code",
   "execution_count": 4,
   "id": "82bd8717-4a19-49b7-b75b-f43667a681ce",
   "metadata": {},
   "outputs": [
    {
     "name": "stdout",
     "output_type": "stream",
     "text": [
      "<class 'pandas.core.frame.DataFrame'>\n",
      "RangeIndex: 342 entries, 0 to 341\n",
      "Data columns (total 7 columns):\n",
      " #   Column            Non-Null Count  Dtype  \n",
      "---  ------            --------------  -----  \n",
      " 0   동대문구청             342 non-null    float64\n",
      " 1   용신동 주민센터          342 non-null    float64\n",
      " 2   신설동 공영주차장         342 non-null    float64\n",
      " 3   청계8노상공영주차장        342 non-null    float64\n",
      " 4   용두동 청계 노상 공영 주차장  342 non-null    float64\n",
      " 5   서울특별시교육청 동대문도서관   342 non-null    float64\n",
      " 6   용두 어린이 영어 도서관     342 non-null    float64\n",
      "dtypes: float64(7)\n",
      "memory usage: 18.8 KB\n"
     ]
    }
   ],
   "source": [
    "# 문자열 -> km 단위의 실수형으로 변환\n",
    "\n",
    "for j in range(d.shape[1]):\n",
    "    for i in range(d.shape[0]):\n",
    "        d.iloc[i, j] = d.iloc[i, j].replace(' km', '')\n",
    "    d.iloc[:, j] = d.iloc[:, j].astype(float)\n",
    "d.info()\n",
    "\n",
    "names = d.columns"
   ]
  },
  {
   "cell_type": "code",
   "execution_count": 5,
   "id": "143e625c-1ebe-48c6-8c89-c55157b1a10d",
   "metadata": {},
   "outputs": [
    {
     "data": {
      "text/plain": [
       "(342, 7)"
      ]
     },
     "execution_count": 5,
     "metadata": {},
     "output_type": "execute_result"
    }
   ],
   "source": [
    "# d의 row 수 -> 6 index i (수요지)\n",
    "# d의 column 수 -> 6 index j (후보지)\n",
    "\n",
    "d = d.values\n",
    "d.shape"
   ]
  },
  {
   "cell_type": "code",
   "execution_count": 6,
   "id": "202479b5-9326-4f14-a3cb-26cd9d1f9a27",
   "metadata": {},
   "outputs": [],
   "source": [
    "I = range(d.shape[0]) # 수요지\n",
    "J = range(d.shape[1]) # 후보지\n",
    "P = 1 # 택배함 수"
   ]
  },
  {
   "cell_type": "code",
   "execution_count": 19,
   "id": "6af4d72f-0d91-4186-84b7-f351c113da8c",
   "metadata": {},
   "outputs": [
    {
     "name": "stdout",
     "output_type": "stream",
     "text": [
      "Status: Optimal\n",
      "Population Served is =  1976411450.0999997\n",
      "a =  [[0. 0. 0. ... 0. 0. 1.]\n",
      " [0. 0. 0. ... 0. 0. 1.]\n",
      " [0. 0. 0. ... 0. 0. 1.]\n",
      " ...\n",
      " [0. 0. 0. ... 0. 0. 1.]\n",
      " [0. 0. 0. ... 0. 0. 1.]\n",
      " [0. 0. 0. ... 0. 0. 1.]]\n",
      "x =  [0. 0. 0. 0. 0. 0. 1.]\n"
     ]
    }
   ],
   "source": [
    "# 문제 구성\n",
    "prob = LpProblem('P_Median', LpMinimize)\n",
    "\n",
    "# 결정 변수\n",
    "# a[i][j] -> 수요지 i가 후보지 j에 할당되면 1, 그렇지 않으면 0\n",
    "a = LpVariable.dicts('a_blocks_%s_publics_%s', (I, J), cat = 'Binary')\n",
    "\n",
    "# x[j] -> 후보지 j에 시설이 입지하면 1, 그렇지 않으면 0\n",
    "x = LpVariable.dict('X_%s', J, cat = 'Binary')\n",
    "\n",
    "# 목적 함수\n",
    "prob += sum(sum(w[i] * d[i][j] * a[i][j] for j in J) for i in I)\n",
    "\n",
    "# 제약식\n",
    "\n",
    "prob += lpSum([x[j] for j in J]) == P\n",
    "\n",
    "for i in I:\n",
    "    prob += lpSum([a[i][j] for j in J]) == 1\n",
    "    \n",
    "for j in J:\n",
    "    for i in I:\n",
    "        prob += a[i][j] <= x[j]\n",
    "        \n",
    "prob.solve()\n",
    "\n",
    "a_soln = np.array([[a[i][j].varValue for j in J] for i in I])\n",
    "x_soln = np.array([x[j].varValue for j in J])\n",
    "\n",
    "print ((\"Status:\"), LpStatus[prob.status])\n",
    "print (\"Population Served is = \", value(prob.objective))\n",
    "print (\"a = \", a_soln)\n",
    "print (\"x = \", x_soln)"
   ]
  },
  {
   "cell_type": "code",
   "execution_count": 20,
   "id": "20e01ba3-c715-4d6b-9097-845da34dfd32",
   "metadata": {},
   "outputs": [
    {
     "name": "stdout",
     "output_type": "stream",
     "text": [
      "Status: Optimal\n",
      "Population Served is =  1976411450.0999997\n",
      "x =  [0. 0. 0. 0. 0. 0. 1.]\n",
      "Status: Optimal\n",
      "Population Served is =  1630436590.5999997\n",
      "x =  [0. 1. 0. 0. 0. 0. 1.]\n",
      "Status: Optimal\n",
      "Population Served is =  1584157671.099999\n",
      "x =  [0. 1. 0. 0. 0. 1. 1.]\n",
      "Status: Optimal\n",
      "Population Served is =  1575447381.899999\n",
      "x =  [0. 1. 0. 0. 1. 1. 1.]\n",
      "Status: Optimal\n",
      "Population Served is =  1568603318.6999993\n",
      "x =  [0. 1. 1. 0. 1. 1. 1.]\n",
      "Status: Optimal\n",
      "Population Served is =  1562336329.3999994\n",
      "x =  [1. 1. 1. 0. 1. 1. 1.]\n",
      "Status: Optimal\n",
      "Population Served is =  1560875483.7999992\n",
      "x =  [1. 1. 1. 1. 1. 1. 1.]\n"
     ]
    }
   ],
   "source": [
    "# 택배함 설치 수 증가\n",
    "\n",
    "answers = []\n",
    "zs = []\n",
    "\n",
    "for p in range(1, 8):\n",
    "    prob = LpProblem('P_Median', LpMinimize)\n",
    "    a = LpVariable.dicts('a_blocks_%s_publics_%s', (I, J), cat = 'Binary')\n",
    "    x = LpVariable.dict('X_%s', J, cat = 'Binary')\n",
    "    prob += sum(sum(w[i] * d[i][j] * a[i][j] for j in J) for i in I)\n",
    "    prob += lpSum([x[j] for j in J]) == p\n",
    "    for i in I:\n",
    "        prob += lpSum([a[i][j] for j in J]) == 1\n",
    "    for j in J:\n",
    "        for i in I:\n",
    "            prob += a[i][j] <= x[j]\n",
    "    prob.solve()\n",
    "    a_soln = np.array([[a[i][j].varValue for j in J] for i in I])\n",
    "    x_soln = np.array([x[j].varValue for j in J])\n",
    "    print ((\"Status:\"), LpStatus[prob.status])\n",
    "    print (\"Population Served is = \", value(prob.objective))\n",
    "    print (\"x = \", x_soln)\n",
    "    answers.append(x_soln)\n",
    "    zs.append(value(prob.objective))"
   ]
  },
  {
   "cell_type": "code",
   "execution_count": 14,
   "id": "d6f26e99-08b5-4d42-83f6-2c6a7ece67de",
   "metadata": {},
   "outputs": [
    {
     "name": "stderr",
     "output_type": "stream",
     "text": [
      "100%|██████████| 7/7 [00:00<00:00, 3517.03it/s]"
     ]
    },
    {
     "name": "stdout",
     "output_type": "stream",
     "text": [
      "\n",
      "용두 어린이 영어 도서관\n",
      "\n",
      "용신동 주민센터\n",
      "용두 어린이 영어 도서관\n",
      "\n",
      "용신동 주민센터\n",
      "서울특별시교육청 동대문도서관\n",
      "용두 어린이 영어 도서관\n",
      "\n",
      "용신동 주민센터\n",
      "용두동 청계 노상 공영 주차장\n",
      "서울특별시교육청 동대문도서관\n",
      "용두 어린이 영어 도서관\n",
      "\n",
      "용신동 주민센터\n",
      "신설동 공영주차장\n",
      "용두동 청계 노상 공영 주차장\n",
      "서울특별시교육청 동대문도서관\n",
      "용두 어린이 영어 도서관\n",
      "\n",
      "동대문구청\n",
      "용신동 주민센터\n",
      "신설동 공영주차장\n",
      "용두동 청계 노상 공영 주차장\n",
      "서울특별시교육청 동대문도서관\n",
      "용두 어린이 영어 도서관\n",
      "\n",
      "동대문구청\n",
      "용신동 주민센터\n",
      "신설동 공영주차장\n",
      "청계8노상공영주차장\n",
      "용두동 청계 노상 공영 주차장\n",
      "서울특별시교육청 동대문도서관\n",
      "용두 어린이 영어 도서관\n"
     ]
    },
    {
     "name": "stderr",
     "output_type": "stream",
     "text": [
      "\n"
     ]
    }
   ],
   "source": [
    "for answer in tqdm(answer_by_p_num):\n",
    "    print()\n",
    "    for index, x in enumerate(answer):\n",
    "        if x == 1:\n",
    "            print(names[index])"
   ]
  },
  {
   "cell_type": "code",
   "execution_count": 16,
   "id": "3d8fd78d-98e6-4986-aae8-23aa0600602c",
   "metadata": {},
   "outputs": [],
   "source": [
    "import matplotlib.pyplot as plt"
   ]
  },
  {
   "cell_type": "code",
   "execution_count": 17,
   "id": "a8828a7c-dbf9-4519-b9db-22ae69b072e2",
   "metadata": {},
   "outputs": [
    {
     "data": {
      "text/plain": [
       "[<matplotlib.lines.Line2D at 0x7fb4901f5a00>]"
      ]
     },
     "execution_count": 17,
     "metadata": {},
     "output_type": "execute_result"
    },
    {
     "data": {
      "image/png": "[encoded data removed]",
      "text/plain": [
       "<Figure size 432x288 with 1 Axes>"
      ]
     },
     "metadata": {
      "needs_background": "light"
     },
     "output_type": "display_data"
    }
   ],
   "source": [
    "plt.plot(range(1, 8), zs)"
   ]
  },
  {
   "cell_type": "code",
   "execution_count": null,
   "id": "4851ef3f-1793-4bd5-8f03-1beca9d88b19",
   "metadata": {},
   "outputs": [],
   "source": []
  }
 ],
 "metadata": {
  "kernelspec": {
   "display_name": "Python 3",
   "language": "python",
   "name": "python3"
  },
  "language_info": {
   "codemirror_mode": {
    "name": "ipython",
    "version": 3
   },
   "file_extension": ".py",
   "mimetype": "text/x-python",
   "name": "python",
   "nbconvert_exporter": "python",
   "pygments_lexer": "ipython3",
   "version": "3.8.8"
  }
 },
 "nbformat": 4,
 "nbformat_minor": 5
}
