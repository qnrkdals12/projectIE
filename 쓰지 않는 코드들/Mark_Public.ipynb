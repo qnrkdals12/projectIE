{
 "cells": [
  {
   "cell_type": "code",
   "execution_count": 1,
   "id": "0a9c87a3-47d5-49c4-8d76-be1630d94189",
   "metadata": {},
   "outputs": [],
   "source": [
    "import pandas as pd\n",
    "import folium\n",
    "from folium import plugins"
   ]
  },
  {
   "cell_type": "code",
   "execution_count": 2,
   "id": "27b53a32-f87a-403b-a2a2-7a4b5f4e0082",
   "metadata": {},
   "outputs": [],
   "source": [
    "dongs = ['용신동', '화곡1동', '행운동', '잠실본동']"
   ]
  },
  {
   "cell_type": "code",
   "execution_count": 5,
   "id": "7f1d5920-5f94-4bb4-ae4e-cc8fef8a510a",
   "metadata": {},
   "outputs": [],
   "source": [
    "CENTER = [37.5648406, 126.9773030] # 서울 시청\n",
    "m = folium.Map(location=CENTER, zoom_start=11)\n",
    "\n",
    "for dong in dongs:\n",
    "    public = pd.read_excel('./공공시설/' + dong + '.xlsx')\n",
    "    for row_index, row in enumerate(public.itertuples()):\n",
    "        location = [float(public.at[row_index, '위도']), float(public.at[row_index, '경도'])]\n",
    "        folium.Marker(location, tooltip='<b>{}</b>'.format(public.at[row_index, '이름'])).add_to(m)\n",
    "\n"
   ]
  },
  {
   "cell_type": "code",
   "execution_count": 6,
   "id": "7a8744c8-0d01-4815-9e4b-88da526ce5f1",
   "metadata": {},
   "outputs": [],
   "source": [
    "m.save('공공기관.html')"
   ]
  },
  {
   "cell_type": "code",
   "execution_count": null,
   "id": "1fdb44da-74c1-4a28-b2a4-2feef975a109",
   "metadata": {},
   "outputs": [],
   "source": []
  }
 ],
 "metadata": {
  "kernelspec": {
   "display_name": "Python 3",
   "language": "python",
   "name": "python3"
  },
  "language_info": {
   "codemirror_mode": {
    "name": "ipython",
    "version": 3
   },
   "file_extension": ".py",
   "mimetype": "text/x-python",
   "name": "python",
   "nbconvert_exporter": "python",
   "pygments_lexer": "ipython3",
   "version": "3.8.8"
  }
 },
 "nbformat": 4,
 "nbformat_minor": 5
}
