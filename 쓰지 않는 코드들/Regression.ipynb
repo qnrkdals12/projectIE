{
 "cells": [
  {
   "cell_type": "code",
   "execution_count": 1,
   "id": "1571d119-61ad-4360-94d7-1ecd83df587c",
   "metadata": {},
   "outputs": [],
   "source": [
    "import pandas as pd"
   ]
  },
  {
   "cell_type": "code",
   "execution_count": 2,
   "id": "9395e7c2-c2a8-4b21-8d94-0b9a9e93c042",
   "metadata": {},
   "outputs": [
    {
     "name": "stdout",
     "output_type": "stream",
     "text": [
      "['PCA.csv', 'allllll.csv']\n"
     ]
    }
   ],
   "source": [
    "# csv 확장자 파일 목록 가져오기\n",
    "\n",
    "import os\n",
    "\n",
    "files = []\n",
    "\n",
    "for i in os.listdir():\n",
    "    if i.endswith('.csv'):\n",
    "        files.append(i)\n",
    "        \n",
    "print(files)"
   ]
  },
  {
   "cell_type": "code",
   "execution_count": 3,
   "id": "ae449b0b-f8cd-4a0f-8988-e62413fb7190",
   "metadata": {},
   "outputs": [
    {
     "data": {
      "text/plain": [
       "0      0\n",
       "1      0\n",
       "2      0\n",
       "3      0\n",
       "4      0\n",
       "      ..\n",
       "426    0\n",
       "427    0\n",
       "428    1\n",
       "429    0\n",
       "430    0\n",
       "Name: 택배함수, Length: 431, dtype: int64"
      ]
     },
     "execution_count": 3,
     "metadata": {},
     "output_type": "execute_result"
    }
   ],
   "source": [
    "data = pd.read_csv(files[0]) # PCA가 진행된 데이터\n",
    "data.drop('Unnamed: 0', axis = 1, inplace = True) # 불필요한 열 제거\n",
    "original = pd.read_csv(files[1]) # 기존 데이터\n",
    "y = original['택배함수'] # Label 데이터\n",
    "y.astype(int) # 실수로 된 데이터 정수로"
   ]
  },
  {
   "cell_type": "code",
   "execution_count": 4,
   "id": "6248d664-a371-45a2-81b8-542fb894c629",
   "metadata": {},
   "outputs": [
    {
     "name": "stdout",
     "output_type": "stream",
     "text": [
      "0.10693017828142788\n",
      "0.09319830078427088\n",
      "0.2547838163477645\n"
     ]
    }
   ],
   "source": [
    "import numpy as np\n",
    "\n",
    "#각 주성분 상관 분석\n",
    "\n",
    "print(np.corrcoef(data['PC 1'], y)[0,1])\n",
    "print(np.corrcoef(data['PC 2'], y)[0,1])\n",
    "print(np.corrcoef(data['PC 3'], y)[0,1])"
   ]
  },
  {
   "cell_type": "code",
   "execution_count": 5,
   "id": "713938e9-9cac-4c0e-ba83-0758db2ec243",
   "metadata": {},
   "outputs": [],
   "source": [
    "# 선형 회귀 패키지\n",
    "\n",
    "from sklearn.linear_model import LinearRegression"
   ]
  },
  {
   "cell_type": "code",
   "execution_count": 6,
   "id": "1b2e0ebc-69b5-42e0-afb3-34de1e640635",
   "metadata": {},
   "outputs": [],
   "source": [
    "linear = LinearRegression() # 객체 생성\n",
    "linear.fit(data, y) # 모델 적합\n",
    "error_linear = y - linear.predict(data)"
   ]
  },
  {
   "cell_type": "code",
   "execution_count": 7,
   "id": "c59655a5-6876-4eb9-bec6-9bae31a63bc4",
   "metadata": {},
   "outputs": [
    {
     "name": "stdout",
     "output_type": "stream",
     "text": [
      " Value : -1.0269197876126932 \n",
      " Index : 135 \n",
      " Name : 수유3동\n",
      "\n",
      " Value : -1.2155720284951768 \n",
      " Index : 204 \n",
      " Name : 신촌동\n",
      "\n",
      " Value : -1.3894189249587336 \n",
      " Index : 250 \n",
      " Name : 가양1동\n",
      "\n",
      " Value : -1.1078300811860426 \n",
      " Index : 258 \n",
      " Name : 화곡1동\n",
      "\n",
      " Value : -1.1157052844318753 \n",
      " Index : 288 \n",
      " Name : 당산2동\n",
      "\n",
      " Value : -1.5606089610184923 \n",
      " Index : 301 \n",
      " Name : 영등포동\n",
      "\n",
      " Value : -1.0480514561898517 \n",
      " Index : 322 \n",
      " Name : 낙성대동\n",
      "\n",
      " Value : -1.167463406972133 \n",
      " Index : 328 \n",
      " Name : 서림동\n",
      "\n",
      "The number of big error : 8\n"
     ]
    }
   ],
   "source": [
    "# 에러가 -1 미만일 경우 한 개 이상의 무인 택배함이 더 필요하다는 것을 뜻한다. \n",
    "\n",
    "counter = 0\n",
    "number = 0\n",
    "\n",
    "for i in error_linear:\n",
    "    if i < -1:\n",
    "        print(' Value : {} \\n Index : {} \\n Name : {}'.format(i, counter, original.iloc[counter, 1]))\n",
    "        print()\n",
    "        number += 1\n",
    "    counter += 1\n",
    "print('The number of big error : {}'.format(number))"
   ]
  },
  {
   "cell_type": "code",
   "execution_count": 8,
   "id": "e7c9b04c-d70f-4e96-9a5e-ebb0f0df7e3b",
   "metadata": {},
   "outputs": [],
   "source": [
    "# 후보 동 개수에 따라 선정\n",
    "# 8개 이상도 가능함. \n",
    "# 영등포동이 가장 설치가 덜 됨"
   ]
  },
  {
   "cell_type": "code",
   "execution_count": 9,
   "id": "7f1d7b88-fc97-48b5-a33d-779cc7ce6223",
   "metadata": {},
   "outputs": [],
   "source": [
    "# https://blog.naver.com/PostView.nhn?blogId=ssdyka&logNo=221231456916\n",
    "# 릿지 회귀에 관한 글\n",
    "# 릿지 회귀를 위한 패키지\n",
    "\n",
    "from sklearn.linear_model import Ridge"
   ]
  },
  {
   "cell_type": "code",
   "execution_count": 10,
   "id": "08d8d377-3ff8-400f-a8a4-7a3698dab712",
   "metadata": {},
   "outputs": [],
   "source": [
    "ridge = Ridge(alpha = 0.5) # alpha 값이 의미하는 것도 정확히 이해되지 않고, 값을 바꿔도 결과는 크게 달라지지 않는 것 같다.\n",
    "ridge.fit(data, y) # 모델 적합\n",
    "error_ridge = y - ridge.predict(data)"
   ]
  },
  {
   "cell_type": "code",
   "execution_count": 11,
   "id": "c5e505bc-56a3-4146-924e-ee08c68134f1",
   "metadata": {},
   "outputs": [
    {
     "name": "stdout",
     "output_type": "stream",
     "text": [
      " Value : -1.0261859651369194 \n",
      " Index : 135 \n",
      " Name : 수유3동\n",
      "\n",
      " Value : -1.214544210915637 \n",
      " Index : 204 \n",
      " Name : 신촌동\n",
      "\n",
      " Value : -1.3883343062632978 \n",
      " Index : 250 \n",
      " Name : 가양1동\n",
      "\n",
      " Value : -1.1073254661153515 \n",
      " Index : 258 \n",
      " Name : 화곡1동\n",
      "\n",
      " Value : -1.115066567105034 \n",
      " Index : 288 \n",
      " Name : 당산2동\n",
      "\n",
      " Value : -1.559196404394553 \n",
      " Index : 301 \n",
      " Name : 영등포동\n",
      "\n",
      " Value : -1.0472816590256069 \n",
      " Index : 322 \n",
      " Name : 낙성대동\n",
      "\n",
      " Value : -1.1665503749436699 \n",
      " Index : 328 \n",
      " Name : 서림동\n",
      "\n",
      "The number of big error : 8\n"
     ]
    }
   ],
   "source": [
    "counter = 0\n",
    "number = 0\n",
    "\n",
    "for i in error_ridge:\n",
    "    if i < -1:\n",
    "        print(' Value : {} \\n Index : {} \\n Name : {}'.format(i, counter, original.iloc[counter, 1]))\n",
    "        print()\n",
    "        number += 1\n",
    "    counter += 1\n",
    "print('The number of big error : {}'.format(number))"
   ]
  }
 ],
 "metadata": {
  "kernelspec": {
   "display_name": "Python 3",
   "language": "python",
   "name": "python3"
  },
  "language_info": {
   "codemirror_mode": {
    "name": "ipython",
    "version": 3
   },
   "file_extension": ".py",
   "mimetype": "text/x-python",
   "name": "python",
   "nbconvert_exporter": "python",
   "pygments_lexer": "ipython3",
   "version": "3.8.8"
  }
 },
 "nbformat": 4,
 "nbformat_minor": 5
}
