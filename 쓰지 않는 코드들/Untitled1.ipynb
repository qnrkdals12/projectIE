{
 "cells": [
  {
   "cell_type": "code",
   "execution_count": 1,
   "id": "1fcce76a-f9b0-4ada-8857-39db98479022",
   "metadata": {},
   "outputs": [],
   "source": [
    "import json\n",
    "headers = {\"Authorization\": \"KakaoAK 720504ed1f0f3c9f3e3ef467230648d7\"}"
   ]
  },
  {
   "cell_type": "code",
   "execution_count": null,
   "id": "0ee27924-3b88-4e3c-b3e7-077f02b9afeb",
   "metadata": {},
   "outputs": [],
   "source": []
  }
 ],
 "metadata": {
  "kernelspec": {
   "display_name": "Python 3",
   "language": "python",
   "name": "python3"
  },
  "language_info": {
   "codemirror_mode": {
    "name": "ipython",
    "version": 3
   },
   "file_extension": ".py",
   "mimetype": "text/x-python",
   "name": "python",
   "nbconvert_exporter": "python",
   "pygments_lexer": "ipython3",
   "version": "3.8.8"
  }
 },
 "nbformat": 4,
 "nbformat_minor": 5
}
