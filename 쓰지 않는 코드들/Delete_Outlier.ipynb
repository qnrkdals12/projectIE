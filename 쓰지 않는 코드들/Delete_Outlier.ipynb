{
 "cells": [
  {
   "cell_type": "code",
   "execution_count": 6,
   "id": "b0ac3b5f-5974-4a0d-b0e3-735f6e2d2440",
   "metadata": {},
   "outputs": [],
   "source": [
    "import pandas as pd\n",
    "import os\n",
    "import folium"
   ]
  },
  {
   "cell_type": "code",
   "execution_count": 5,
   "id": "a4ece644-f6d9-49fc-8608-77d646b1e569",
   "metadata": {},
   "outputs": [
    {
     "data": {
      "text/plain": [
       "['잠실본동.xlsx',\n",
       " '좌표_최종_용신동.xlsx',\n",
       " '좌표_최종_행운동.xlsx',\n",
       " '화곡1동.xlsx',\n",
       " '좌표_최종_잠실본동.xlsx',\n",
       " '행운동.xlsx',\n",
       " '용신동.xlsx',\n",
       " '좌표_최종_화곡1동.xlsx',\n",
       " '택배 착지량 통합.xlsx']"
      ]
     },
     "execution_count": 5,
     "metadata": {},
     "output_type": "execute_result"
    }
   ],
   "source": [
    "files = []\n",
    "\n",
    "for i in os.listdir():\n",
    "    if i.endswith('.xlsx'):\n",
    "        files.append(i)\n",
    "files"
   ]
  },
  {
   "cell_type": "code",
   "execution_count": 8,
   "id": "2d31b384-be7b-429b-aae8-78be4c46adc6",
   "metadata": {},
   "outputs": [],
   "source": [
    "CENTER = [37.5648406, 126.9773030]"
   ]
  },
  {
   "cell_type": "markdown",
   "id": "7f3e5bc9-0aed-424a-9938-306260b57b3f",
   "metadata": {},
   "source": [
    "## 용신동"
   ]
  },
  {
   "cell_type": "code",
   "execution_count": 7,
   "id": "3934c986-7f65-4b17-93c7-35f8234eaea1",
   "metadata": {},
   "outputs": [],
   "source": [
    "yongsin = pd.read_excel(files[1])\n",
    "map_yongsin = folium.Map(location=CENTER, zoom_start=1)\n",
    "location = zip(yongsin.iloc[:, -1], yongsin.iloc[:, -2])\n",
    "for i in location:\n",
    "    folium.Marker(i, popup=str(i)).add_to(map_yongsin)"
   ]
  },
  {
   "cell_type": "code",
   "execution_count": 20,
   "id": "d9ae8500-d52a-48e0-a73f-495ed9fce8a1",
   "metadata": {},
   "outputs": [],
   "source": [
    "yongsin_after = pd.read_excel('좌표_용신동_최종_최종.xlsx')\n",
    "map_yongsin_after = folium.Map(location=CENTER, zoom_start=1)\n",
    "location_yongsin_after = zip(yongsin_after.iloc[:, -1], yongsin_after.iloc[:, -2])\n",
    "for i in location_yongsin_after:\n",
    "    folium.Marker(i, popup=str(i)).add_to(map_yongsin_after)"
   ]
  },
  {
   "cell_type": "markdown",
   "id": "31c61ba3-386c-4365-8029-62c832f320ba",
   "metadata": {},
   "source": [
    "## 행운동"
   ]
  },
  {
   "cell_type": "code",
   "execution_count": 34,
   "id": "93a1b32f-8f6d-46ec-b63d-61937c153c23",
   "metadata": {},
   "outputs": [],
   "source": [
    "hangun = pd.read_excel(files[2])\n",
    "map_hangun = folium.Map(location=CENTER, zoom_start=1)\n",
    "location_hangun = zip(hangun.iloc[:, -1], hangun.iloc[:, -2])\n",
    "for i in location_hangun:\n",
    "    folium.Marker(i, popup=str(i)).add_to(map_hangun)"
   ]
  },
  {
   "cell_type": "code",
   "execution_count": 38,
   "id": "7ac21c6f-b5fa-4414-9d81-38705152f153",
   "metadata": {},
   "outputs": [],
   "source": [
    "hangun_after = pd.read_excel('좌표_행운동_최종_최종.xlsx')\n",
    "map_hangun_after = folium.Map(location=CENTER, zoom_start=1)\n",
    "location_hangun_after = zip(hangun_after.iloc[:, -1], hangun_after.iloc[:, -2])\n",
    "for i in location_hangun_after:\n",
    "    folium.Marker(i, popup=str(i)).add_to(map_hangun_after)"
   ]
  },
  {
   "cell_type": "markdown",
   "id": "66918b2e-4064-4484-b405-36ef3a63ed47",
   "metadata": {},
   "source": [
    "## 잠실본동"
   ]
  },
  {
   "cell_type": "code",
   "execution_count": 40,
   "id": "b45262a6-73bc-4043-826b-4579e5357784",
   "metadata": {},
   "outputs": [],
   "source": [
    "jamsil = pd.read_excel(files[4])\n",
    "map_jamsil = folium.Map(location=CENTER, zoom_start=1)\n",
    "location_jamsil = zip(jamsil.iloc[:, -1], jamsil.iloc[:, -2])\n",
    "for i in location_jamsil:\n",
    "    folium.Marker(i, popup=str(i)).add_to(map_jamsil)"
   ]
  },
  {
   "cell_type": "code",
   "execution_count": 46,
   "id": "c9ae639a-a179-4f50-9c40-b77572520e61",
   "metadata": {},
   "outputs": [],
   "source": [
    "jamsil_after = pd.read_excel('좌표_잠실본동_최종_최종.xlsx')\n",
    "map_jamsil_after = folium.Map(location=CENTER, zoom_start=1)\n",
    "location_jamsil_after = zip(jamsil_after.iloc[:, -1], jamsil_after.iloc[:, -2])\n",
    "for i in location_jamsil_after:\n",
    "    folium.Marker(i, popup=str(i)).add_to(map_jamsil_after)"
   ]
  },
  {
   "cell_type": "markdown",
   "id": "6913f96d-3fd5-4c34-a190-51b49a982495",
   "metadata": {},
   "source": [
    "## 화곡1동"
   ]
  },
  {
   "cell_type": "code",
   "execution_count": 48,
   "id": "88e40b81-e477-4542-8ba8-1a7d9f4dfc64",
   "metadata": {},
   "outputs": [],
   "source": [
    "hwa = pd.read_excel(files[7])\n",
    "map_hwa = folium.Map(location=CENTER, zoom_start=1)\n",
    "location_hwa = zip(hwa.iloc[:, -1], hwa.iloc[:, -2])\n",
    "for i in location_hwa:\n",
    "    folium.Marker(i, popup=str(i)).add_to(map_hwa)"
   ]
  },
  {
   "cell_type": "code",
   "execution_count": 53,
   "id": "9b553361-2551-428a-b70e-a3527620994c",
   "metadata": {},
   "outputs": [],
   "source": [
    "hwa_after = pd.read_excel('좌표_화곡1동_최종_최종.xlsx')\n",
    "map_hwa_after = folium.Map(location=CENTER, zoom_start=1)\n",
    "location_hwa_after = zip(hwa_after.iloc[:, -1], hwa_after.iloc[:, -2])\n",
    "for i in location_hwa_after:\n",
    "    folium.Marker(i, popup=str(i)).add_to(map_hwa_after)"
   ]
  },
  {
   "cell_type": "code",
   "execution_count": null,
   "id": "91c7e947-33db-42ac-9290-f8158f571467",
   "metadata": {},
   "outputs": [],
   "source": []
  }
 ],
 "metadata": {
  "kernelspec": {
   "display_name": "Python 3",
   "language": "python",
   "name": "python3"
  },
  "language_info": {
   "codemirror_mode": {
    "name": "ipython",
    "version": 3
   },
   "file_extension": ".py",
   "mimetype": "text/x-python",
   "name": "python",
   "nbconvert_exporter": "python",
   "pygments_lexer": "ipython3",
   "version": "3.8.8"
  }
 },
 "nbformat": 4,
 "nbformat_minor": 5
}
