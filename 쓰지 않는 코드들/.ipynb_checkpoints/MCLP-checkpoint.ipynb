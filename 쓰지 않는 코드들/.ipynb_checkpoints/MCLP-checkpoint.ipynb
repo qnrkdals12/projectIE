{
 "cells": [
  {
   "cell_type": "code",
   "execution_count": 1,
   "id": "29fc9ce7-d769-42e3-964f-a4b6f462b8cc",
   "metadata": {},
   "outputs": [],
   "source": [
    "# https://stackoverflow.com/questions/51501074/implementing-mclp-in-pulp\n",
    "# 코드는 이 곳을 참조했습니다. "
   ]
  },
  {
   "cell_type": "code",
   "execution_count": 2,
   "id": "046ad635-1471-41cf-8f07-b46d14e87080",
   "metadata": {},
   "outputs": [],
   "source": [
    "import numpy as np\n",
    "import pandas as pd\n",
    "from pulp import *"
   ]
  },
  {
   "cell_type": "code",
   "execution_count": 3,
   "id": "b64f1aab-0534-4672-aff5-1dec91e4928e",
   "metadata": {},
   "outputs": [
    {
     "data": {
      "text/plain": [
       "['좌표_최종_용신동.xlsx',\n",
       " 'Distance_Matrix.xlsx',\n",
       " '용신동 공공시설.xlsx',\n",
       " 'Test_Distance_Matrix.xlsx']"
      ]
     },
     "execution_count": 3,
     "metadata": {},
     "output_type": "execute_result"
    }
   ],
   "source": [
    "# 데이터 가져오기\n",
    "\n",
    "files = []\n",
    "\n",
    "for i in os.listdir():\n",
    "    if i.endswith('.xlsx'):\n",
    "        files.append(i)\n",
    "        \n",
    "files"
   ]
  },
  {
   "cell_type": "code",
   "execution_count": 4,
   "id": "4f420511-f038-4ce9-be66-7b3d6091be5a",
   "metadata": {},
   "outputs": [],
   "source": [
    "d = pd.read_excel(files[1]).iloc[:, 1:8] # distance matrix, 가장 앞에 필요없는 index 칼럼만 제거\n",
    "a = pd.read_excel(files[0]).iloc[:, 0] # 택배 착지량이 있는 칼럼만 선택"
   ]
  },
  {
   "cell_type": "code",
   "execution_count": 5,
   "id": "c5219892-a2b8-4203-ba14-cae3cdaef4b7",
   "metadata": {},
   "outputs": [
    {
     "name": "stdout",
     "output_type": "stream",
     "text": [
      "<class 'pandas.core.frame.DataFrame'>\n",
      "RangeIndex: 342 entries, 0 to 341\n",
      "Data columns (total 7 columns):\n",
      " #   Column            Non-Null Count  Dtype  \n",
      "---  ------            --------------  -----  \n",
      " 0   동대문구청             342 non-null    float64\n",
      " 1   용신동 주민센터          342 non-null    float64\n",
      " 2   신설동 공영주차장         342 non-null    float64\n",
      " 3   청계8노상공영주차장        342 non-null    float64\n",
      " 4   용두동 청계 노상 공영 주차장  342 non-null    float64\n",
      " 5   서울특별시교육청 동대문도서관   342 non-null    float64\n",
      " 6   용두 어린이 영어 도서관     342 non-null    float64\n",
      "dtypes: float64(7)\n",
      "memory usage: 18.8 KB\n"
     ]
    }
   ],
   "source": [
    "# 문자열 -> km 단위의 실수형으로 변환\n",
    "\n",
    "for j in range(d.shape[1]):\n",
    "    for i in range(d.shape[0]):\n",
    "        d.iloc[i, j] = d.iloc[i, j].replace(' km', '')\n",
    "    d.iloc[:, j] = d.iloc[:, j].astype(float)\n",
    "d.info()"
   ]
  },
  {
   "cell_type": "code",
   "execution_count": 6,
   "id": "041db0a6-dc8c-4be3-8ef9-00cb0acafc46",
   "metadata": {},
   "outputs": [],
   "source": [
    "# pulp 패키지가 np.array를 사용해서 pd.DataFrame -> np.array\n",
    "\n",
    "d = d.values\n",
    "a = a.values"
   ]
  },
  {
   "cell_type": "code",
   "execution_count": 7,
   "id": "d7c0c2b3-458d-4ac9-8909-a5b771ad9580",
   "metadata": {},
   "outputs": [],
   "source": [
    "I = [i for i in range(d.shape[0])] # 수요지 index array\n",
    "J = [j for j in range(d.shape[1])] # 후보지 index array\n",
    "S = 0.5 # 최대 커버 지역 500m 설정\n",
    "\n",
    "P = 1 # 택배함 수\n",
    "\n",
    "# Compute the sets Ni\n",
    "# NB: this will be a list in which each item is a list of nodes\n",
    "# within the threshold distance of the i'th node\n",
    "N = [[j for j in J if d[i][j] < S] for i in I] # 정확히는 잘 모르겠음"
   ]
  },
  {
   "cell_type": "code",
   "execution_count": 8,
   "id": "d4e85f67-d4f0-42db-b3be-e63db7822939",
   "metadata": {},
   "outputs": [
    {
     "name": "stdout",
     "output_type": "stream",
     "text": [
      "Status: Optimal\n",
      "Population Served is =  121611408.0\n",
      "x =  [0. 1. 0. 0. 0. 0. 0.]\n"
     ]
    }
   ],
   "source": [
    "# 문제 구성\n",
    "prob = LpProblem(\"MCLP\", LpMaximize)\n",
    "\n",
    "# 결정 변수\n",
    "x = LpVariable.dicts(\"x\", J, cat = 'Binary') # 후보지\n",
    "y = LpVariable.dicts(\"y\", I, cat = 'Binary') # 수요지\n",
    "\n",
    "# 목적함수\n",
    "prob += lpSum([a[i] * y[i] for i in I])\n",
    "\n",
    "# 제약식\n",
    "for i in I:\n",
    "    prob += lpSum([x[j] for j in N[i]]) >= y[i]\n",
    "\n",
    "prob += lpSum([x[j] for j in J]) == P\n",
    "\n",
    "# Solve problem\n",
    "prob.solve()\n",
    "\n",
    "x_soln = np.array([x[j].varValue for j in J])\n",
    "\n",
    "# And print some output\n",
    "print ((\"Status:\"), LpStatus[prob.status])\n",
    "print (\"Population Served is = \", value(prob.objective))\n",
    "print (\"x = \", x_soln)"
   ]
  },
  {
   "cell_type": "code",
   "execution_count": 10,
   "id": "8f13a25c-ece3-4246-8ba4-93d1f0407499",
   "metadata": {},
   "outputs": [
    {
     "name": "stdout",
     "output_type": "stream",
     "text": [
      "Status: Optimal\n",
      "Population Served is =  121611408.0\n",
      "x =  [0. 1. 0. 0. 0. 0. 0.]\n",
      "Status: Optimal\n",
      "Population Served is =  177504085.0\n",
      "x =  [0. 1. 0. 0. 0. 0. 1.]\n",
      "Status: Optimal\n",
      "Population Served is =  182370392.0\n",
      "x =  [0. 1. 0. 0. 0. 1. 1.]\n",
      "Status: Optimal\n",
      "Population Served is =  182370392.0\n",
      "x =  [1. 1. 0. 0. 0. 1. 1.]\n",
      "Status: Optimal\n",
      "Population Served is =  182370392.0\n",
      "x =  [1. 1. 1. 0. 0. 1. 1.]\n",
      "Status: Optimal\n",
      "Population Served is =  182370392.0\n",
      "x =  [1. 1. 0. 1. 1. 1. 1.]\n",
      "Status: Optimal\n",
      "Population Served is =  182370392.0\n",
      "x =  [1. 1. 1. 1. 1. 1. 1.]\n"
     ]
    }
   ],
   "source": [
    "# 택배함 수 변화 시키면서 반복\n",
    "\n",
    "answers = []\n",
    "zs = []\n",
    "\n",
    "for num_of_fac in range(1, 8):\n",
    "\n",
    "    prob = LpProblem(\"MCLP\", LpMaximize)\n",
    "    x = LpVariable.dicts(\"x\", J, cat = 'Binary')\n",
    "    y = LpVariable.dicts(\"y\", I, cat = 'Binary')\n",
    "\n",
    "    prob += lpSum([a[i] * y[i] for i in I])\n",
    "\n",
    "    for i in I:\n",
    "        prob += lpSum([x[j] for j in N[i]]) >= y[i]\n",
    "\n",
    "    prob += lpSum([x[j] for j in J]) == num_of_fac\n",
    "\n",
    "    prob.solve()\n",
    "\n",
    "    x_soln = np.array([x[j].varValue for j in J])\n",
    "\n",
    "    print ((\"Status:\"), LpStatus[prob.status])\n",
    "    print (\"Population Served is = \", value(prob.objective))\n",
    "    print (\"x = \", x_soln)\n",
    "    answers.append(x_soln)\n",
    "    zs.append(value(prob.objective))"
   ]
  },
  {
   "cell_type": "code",
   "execution_count": 11,
   "id": "edf86eed-4696-4152-bdab-cd4b4e3e493f",
   "metadata": {},
   "outputs": [],
   "source": [
    "import matplotlib.pyplot as plt"
   ]
  },
  {
   "cell_type": "code",
   "execution_count": 12,
   "id": "d98b54c2-360d-4196-908e-5c4c12784986",
   "metadata": {},
   "outputs": [
    {
     "data": {
      "text/plain": [
       "<Figure size 504x288 with 0 Axes>"
      ]
     },
     "execution_count": 12,
     "metadata": {},
     "output_type": "execute_result"
    },
    {
     "data": {
      "text/plain": [
       "<Figure size 504x288 with 0 Axes>"
      ]
     },
     "metadata": {},
     "output_type": "display_data"
    }
   ],
   "source": [
    "plt.figure(figsize = (7,4))"
   ]
  },
  {
   "cell_type": "code",
   "execution_count": 14,
   "id": "5f7ddbc2-dec9-44fb-a58c-b40a1c4abf53",
   "metadata": {},
   "outputs": [
    {
     "data": {
      "text/plain": [
       "[<matplotlib.lines.Line2D at 0x7f997326aa30>]"
      ]
     },
     "execution_count": 14,
     "metadata": {},
     "output_type": "execute_result"
    },
    {
     "data": {
      "image/png": "[encoded data removed]",
      "text/plain": [
       "<Figure size 432x288 with 1 Axes>"
      ]
     },
     "metadata": {
      "needs_background": "light"
     },
     "output_type": "display_data"
    }
   ],
   "source": [
    "plt.plot(range(1,8), zs)"
   ]
  },
  {
   "cell_type": "code",
   "execution_count": null,
   "id": "a148d3f7-fc31-4d88-931e-a638553f7017",
   "metadata": {},
   "outputs": [],
   "source": []
  }
 ],
 "metadata": {
  "kernelspec": {
   "display_name": "Python 3",
   "language": "python",
   "name": "python3"
  },
  "language_info": {
   "codemirror_mode": {
    "name": "ipython",
    "version": 3
   },
   "file_extension": ".py",
   "mimetype": "text/x-python",
   "name": "python",
   "nbconvert_exporter": "python",
   "pygments_lexer": "ipython3",
   "version": "3.8.8"
  }
 },
 "nbformat": 4,
 "nbformat_minor": 5
}
